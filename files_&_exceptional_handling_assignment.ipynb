{
  "nbformat": 4,
  "nbformat_minor": 0,
  "metadata": {
    "colab": {
      "provenance": []
    },
    "kernelspec": {
      "name": "python3",
      "display_name": "Python 3"
    },
    "language_info": {
      "name": "python"
    }
  },
  "cells": [
    {
      "cell_type": "markdown",
      "source": [
        "#**files & exceptional handling assignment theory answer.**"
      ],
      "metadata": {
        "id": "qkziWq3geMpc"
      }
    },
    {
      "cell_type": "markdown",
      "source": [
        "#1.What is the difference between interpreted and compiled languages?\n",
        "- Compiled Language\n",
        "In a compiled language, the whole program is translated into machine code by a compiler before it runs.\n",
        "This makes the program run faster because the computer already understands the code.\n",
        "But if there’s any error, you’ll find out only after compiling.\n",
        "\n",
        "Examples: C, C++\n",
        "\n",
        "- Language\n",
        "In an interpreted language, the code is read and executed line by line at the time of running by an interpreter.\n",
        "This makes it easier to test and debug, but the program runs a bit slower because translation happens during execution.\n",
        "\n",
        "Examples: Python, JavaScript\n",
        "\n",
        "Main Difference\n",
        "Compiled languages are translated first, then run.\n",
        "\n",
        "Interpreted languages are translated while running"
      ],
      "metadata": {
        "id": "eDwI8aU0eR3D"
      }
    },
    {
      "cell_type": "markdown",
      "source": [
        "#2.What is exception handling in Python?\n",
        "-Exception handling in Python is a way to catch and handle errors that happen while your program is running, so the program doesn’t crash suddenly.\n",
        "\n",
        "- Simple Meaning:\n",
        "Sometimes, errors like dividing by zero or opening a missing file can stop your program.\n",
        "With exception handling, you can write code to handle such errors, so your program can continue or show a message instead of crashing.\n",
        "\n",
        "# - How it works in Python:\n",
        "Python uses 3 main keywords:\n",
        "\n",
        "try: Block where you write code that might cause an error.\n",
        "\n",
        "except: Block to handle the error.\n",
        "\n",
        "finally (optional): Block that runs no matter what (used for cleanup).\n",
        "\n",
        "else (optional): Runs if there’s no error.ss\n",
        "\n",
        "- Why it's useful:\n",
        "Prevents program from crashing\n",
        "\n",
        "Gives user-friendly error messages\n",
        "\n",
        "Useful for debugging and logging issues\n"
      ],
      "metadata": {
        "id": "jfwdIHhveNn_"
      }
    },
    {
      "cell_type": "markdown",
      "source": [
        "#3.What is the purpose of the finally block in exception handling?\n",
        "\n",
        "The finally block is used to write code that should always run, no matter what happens — whether there is an error or not.\n",
        "\n",
        "- Simple Explanation:\n",
        "If there is an error → finally runs\n",
        "\n",
        "If there is no error → finally still runs\n",
        "\n",
        "Even if you use return or break → finally still runs\n",
        "\n",
        "It is usually used to clean up resources like closing a file, disconnecting from a server, or releasing memory."
      ],
      "metadata": {
        "id": "Bu8vY70og-Cx"
      }
    },
    {
      "cell_type": "markdown",
      "source": [
        "#4.What is logging in Python?\n",
        "-Logging in Python is a way to track events that happen while your program runs. It's like writing a diary of your program's activity—useful for debugging, monitoring, or troubleshooting.\n",
        "\n",
        "- Why Use Logging Instead of Print?\n",
        "print() is for simple messages.\n",
        "\n",
        "logging is more powerful — it gives levels (info, warning, error), timestamps, and can save to files.\n",
        "\n",
        "- Logging Levels:\n",
        "These help you decide the importance of a message:\n",
        "\n",
        "DEBUG: Details for debugging\n",
        "\n",
        "INFO: General information\n",
        "\n",
        "WARNING: Something unexpected, but the program works\n",
        "\n",
        "ERROR: Problem, but program can still run\n",
        "\n",
        "CRITICAL: Serious error – program may stop\n"
      ],
      "metadata": {
        "id": "8x_eVPo3ilQQ"
      }
    },
    {
      "cell_type": "markdown",
      "source": [
        "#5.What is the significance of the __del__ method in Python?\n",
        "-The __del__ method is a special method in Python, also called a destructor.\n",
        "\n",
        "- Purpose:\n",
        "__del__ is called automatically when an object is about to be destroyed (i.e., when Python's garbage collector deletes the object).\n",
        "\n",
        "- Why use __del__?\n",
        "To clean up resources like:\n",
        "\n",
        "Closing a file\n",
        "\n",
        "Disconnecting from a network\n",
        "\n",
        "Releasing memory or other system resources."
      ],
      "metadata": {
        "id": "g4f3OmtrhgMC"
      }
    },
    {
      "cell_type": "markdown",
      "source": [
        "#6.What is the difference between import and from ... import in Python?\n",
        "-Both are used to bring in code (functions, classes, variables) from modules, but they work a bit differently.\n",
        "\n",
        "- import module_name\n",
        "This imports the entire module.\n",
        "\n",
        "You must use the module name to access functions or variables.\n",
        "\n",
        "- from module_name import something\n",
        "This imports only specific parts (like a function or variable) from the module.\n",
        "\n",
        "You can use it directly without the module name.\n",
        "\n",
        "\n"
      ],
      "metadata": {
        "id": "oQX1gQd_hpWi"
      }
    },
    {
      "cell_type": "markdown",
      "source": [
        "#7.How can you handle multiple exceptions in Python?\n",
        "-In Python, multiple exceptions can be handled using multiple except blocks. This allows the program to respond differently based on the type of error that occurs. When a try block contains code that may raise more than one kind of exception, you can write separate except blocks for each specific error.\n",
        "\n",
        "- Ways to handle multiple exceptions:\n",
        "Multiple except blocks:\n",
        "You can write one except block for each exception type. This helps handle different exceptions with specific responses.\n",
        "\n",
        "Single except block with multiple exceptions:\n",
        "You can group multiple exceptions into a tuple and handle them together in one except block.\n",
        "\n",
        "Generic except block:\n",
        "You can also write one general except block to catch any type of exception, but this is less preferred because it may hide bugs.\n",
        "\n",
        "- Importance:\n",
        "Handling multiple exceptions helps your program:\n",
        "\n",
        "Avoid crashing on errors\n",
        "\n",
        "Show user-friendly error messages\n",
        "\n",
        "Handle different problems in different ways\n"
      ],
      "metadata": {
        "id": "FYls4ilxhxLz"
      }
    },
    {
      "cell_type": "markdown",
      "source": [
        "#8.What is the purpose of the with statement when handling files in Python?\n",
        "-The with statement in Python is used to manage resources like file handling efficiently and safely.\n",
        "\n",
        "- Purpose:\n",
        "The main purpose of using with when working with files is to automatically close the file after its block of code is executed, even if an error occurs.\n",
        "\n",
        "- Benefits:\n",
        "Automatic file closing\n",
        "No need to write file.close() manually.\n",
        "\n",
        "Cleaner and shorter code\n",
        "\n",
        "Prevents resource leaks (like keeping files open accidentally)"
      ],
      "metadata": {
        "id": "Q5JFAKFZjpqG"
      }
    },
    {
      "cell_type": "markdown",
      "source": [
        "#9.What is the difference between multithreading and multiprocessing?\n",
        "-Both are techniques to perform multiple tasks at the same time (concurrently), but they differ in how they work and what they are best suited for.\n",
        "\n",
        "- Multithreading:\n",
        "Uses multiple threads within a single process.\n",
        "\n",
        "Threads share the same memory space.\n",
        "\n",
        "Best for I/O-bound tasks like file handling, web requests, or user input.\n",
        "\n",
        "Lightweight, but affected by Python’s Global Interpreter Lock (GIL), so it doesn’t truly run code in parallel on multiple cores for CPU-heavy tasks.\n",
        "\n",
        " Example tasks: Downloading files, reading multiple files, handling user input in apps.\n",
        "\n",
        "- Multiprocessing:\n",
        "Uses multiple processes, each with its own memory space.\n",
        "\n",
        "True parallelism – ideal for CPU-bound tasks like complex calculations or data processing.\n",
        "\n",
        "Heavier than threads (more memory and slower to start), but not affected by the GIL.\n",
        "\n",
        " Example tasks: Image processing, data crunching, machine learning\n"
      ],
      "metadata": {
        "id": "__Vgj3MYjv4F"
      }
    },
    {
      "cell_type": "markdown",
      "source": [
        "#10.What are the advantages of using logging in a program?\n",
        "-Logging is used to record messages that describe the events happening in a program. It is very useful for tracking the execution flow, finding bugs, and monitoring the system.\n",
        "\n",
        "- Advantages:\n",
        "\n",
        "Helps in debugging by providing a record of what the program was doing.\n",
        "\n",
        "Categorizes messages by severity levels (like info, warning, error).\n",
        "\n",
        "Saves output to files, making it easy to review later.\n",
        "\n",
        "Works better than print() in large or complex programs.\n",
        "\n",
        "Improves program monitoring in real-time or after failure.\n",
        "\n",
        "Makes error tracking easier in live environments.\n",
        "\n",
        "Can be turned on/off or filtered as needed without changing code.\n",
        "\n"
      ],
      "metadata": {
        "id": "uVzMuujFjwfZ"
      }
    },
    {
      "cell_type": "markdown",
      "source": [
        "#11.What is memory management in Python?\n",
        "-Memory management in Python refers to how Python allocates, stores, and frees up memory during program execution to make efficient use of system resources.\n",
        "\n",
        "-Key Features of Python Memory Management:\n",
        "\n",
        "1- Automatic memory management\n",
        "\n",
        "Python handles memory allocation and deallocation automatically using a built-in system.\n",
        "\n",
        "2.- Garbage collection\n",
        "\n",
        "Unused or unreferenced objects are automatically deleted by the garbage collector to free memory.\n",
        "\n",
        "3.- Reference counting\n",
        "\n",
        "Python keeps track of how many references point to an object. When the count reaches zero, the object is deleted.\n",
        "\n",
        "4.- Private heap space\n",
        "\n",
        "All Python objects and data structures are stored in a private heap, which is managed internally by Python.\n",
        "\n",
        "5.- Dynamic memory allocation\n",
        "\n",
        "Memory is allocated dynamically — as needed at runtime.\n",
        "\n",
        "Memory management in Python is automatic and handled by the interpreter through reference counting and garbage collection, ensuring efficient memory use without manual effort."
      ],
      "metadata": {
        "id": "N56nT_gXjxMx"
      }
    },
    {
      "cell_type": "markdown",
      "source": [
        "#12.What are the basic steps involved in exception handling in Python?\n",
        "-Exception handling in Python is used to manage errors gracefully during program execution, so the program doesn't crash unexpectedly.\n",
        "\n",
        "Basic Steps in Exception Handling:\n",
        "\n",
        "- try block\n",
        "\n",
        "Write the code that might raise an error.\n",
        "\n",
        "Python will monitor this block for exceptions.\n",
        "\n",
        "- except block\n",
        "\n",
        "If an exception occurs in the try block, the code in the except block runs.\n",
        "\n",
        "You can catch specific or general exceptions.\n",
        "\n",
        "- (Optional) else block\n",
        "\n",
        "Runs only if no exception occurs in the try block.\n",
        "\n",
        "- (Optional) finally block\n",
        "\n",
        "Runs no matter what — whether an exception occurred or not.\n",
        "\n",
        "Used for cleanup actions (e.g., closing files).\n"
      ],
      "metadata": {
        "id": "vYHUrR9jnaYV"
      }
    },
    {
      "cell_type": "markdown",
      "source": [
        "#13.Why is memory management important in Python?\n",
        "-Memory management is important in Python to ensure that the program uses the system’s memory efficiently, safely, and without leaks.\n",
        "\n",
        "Reasons Why It's Important:\n",
        "\n",
        "- Prevents memory leaks\n",
        "\n",
        "Frees up memory that is no longer needed, avoiding wastage.\n",
        "\n",
        "- Improves performance\n",
        "\n",
        "Efficient memory use makes the program run faster and smoother.\n",
        "\n",
        "- Supports large programs\n",
        "\n",
        "Good memory management allows Python to handle large data and complex tasks.\n",
        "\n",
        "- Ensures stability\n",
        "\n",
        "Prevents the program from crashing due to running out of memory.\n",
        "\n",
        "- Automatic cleanup\n",
        "\n",
        "Python’s garbage collector automatically removes unused objects, making development easier.\n",
        "\n",
        "\n"
      ],
      "metadata": {
        "id": "U_6ngW6EnaCW"
      }
    },
    {
      "cell_type": "markdown",
      "source": [
        "#14.What is the role of try and except in exception handling?\n",
        "-In Python, the try and except blocks are used to handle errors (exceptions) that may occur during program execution, so the program can continue running without crashing.\n",
        "\n",
        "- Role of try:\n",
        "\n",
        "The try block contains code that might raise an exception.\n",
        "\n",
        "Python monitors this block during execution.\n",
        "\n",
        "- Role of except:\n",
        "\n",
        "If an error occurs in the try block, Python immediately jumps to the except block.\n",
        "\n",
        "The except block contains code to handle the error gracefully (e.g., showing a message instead of crashing)."
      ],
      "metadata": {
        "id": "xsxhz-KmnZu3"
      }
    },
    {
      "cell_type": "markdown",
      "source": [
        "#15.How does Python's garbage collection system work?\n",
        "-Python’s garbage collection system automatically manages memory by removing unused or unreferenced objects to free up space.\n",
        "\n",
        "--How It Works:\n",
        "\n",
        "- Reference Counting\n",
        "\n",
        "Every object in Python has a reference count (i.e., how many times it is being used).\n",
        "\n",
        "When the count drops to zero, the object is no longer needed and becomes eligible for deletion.\n",
        "\n",
        "- Garbage Collector (GC)\n",
        "\n",
        "Python also has a built-in garbage collector to handle cases like circular references (when two or more objects refer to each other).\n",
        "\n",
        "The GC runs automatically, but can also be controlled manually using the gc module.\n",
        "\n",
        "- Key Components:\n",
        "\n",
        "Automatic: Python collects garbage on its own — no need for manual memory release.\n",
        "\n",
        "Efficient: Helps avoid memory leaks and keeps the program lightweight.\n",
        "\n",
        "Safe: Ensures that only unused objects are deleted.\n",
        "\n"
      ],
      "metadata": {
        "id": "2LlgtO5fn-u2"
      }
    },
    {
      "cell_type": "markdown",
      "source": [
        "#16.What is the purpose of the else block in exception handling?\n",
        "-In Python, the else block in exception handling is used to define code that should run only if no exception occurs in the try block.\n",
        "\n",
        "- Purpose:\n",
        "\n",
        "To separate normal code from error-handling code.\n",
        "\n",
        "Helps keep the logic clean and organized\n",
        "\n",
        "The else block runs only if no exceptions occur in the try block, and it's useful for keeping successful execution logic separate from error handling.\n"
      ],
      "metadata": {
        "id": "jGAsR4_4r_aC"
      }
    },
    {
      "cell_type": "markdown",
      "source": [
        "#17.What are the common logging levels in Python?\n",
        "-Python’s logging module provides standard levels to indicate the severity or importance of events that occur during program execution.\n",
        "\n",
        "- Common Logging Levels (from lowest to highest):\n",
        "\n",
        "DEBUG – Detailed information, useful for debugging.\n",
        "\n",
        "Example: \"Starting loop at index 0\"\n",
        "\n",
        "INFO – General information about the program’s progress.\n",
        "\n",
        "Example: \"User logged in successfully\"\n",
        "\n",
        "WARNING – Something unexpected happened, but the program is still running.\n",
        "\n",
        "Example: \"Low disk space\"\n",
        "\n",
        "ERROR – A serious issue occurred; part of the program failed.\n",
        "\n",
        "Example: \"File not found\"\n",
        "\n",
        "CRITICAL – A very serious error; the program might not continue.\n",
        "\n",
        "Example: \"System crash, shutting down\"\n"
      ],
      "metadata": {
        "id": "Et_zfFNer_6f"
      }
    },
    {
      "cell_type": "markdown",
      "source": [
        "#18.What is the difference between os.fork() and multiprocessing in Python?\n",
        "-Both os.fork() and the multiprocessing module are used to create new processes in Python, but they differ in usage, portability, and control.\n",
        "\n",
        "- 1. os.fork()\n",
        "\n",
        "Directly creates a child process by duplicating the current process.\n",
        "\n",
        "Only available on Unix/Linux systems (not supported on Windows).\n",
        "\n",
        "Low-level and harder to manage.\n",
        "\n",
        "Returns 0 in the child process and the child's PID in the parent process.\n",
        "\n",
        "-Use when you want manual process control and are working on Unix systems.\n",
        "\n",
        "- 2. multiprocessing Module\n",
        "\n",
        "A high-level, cross-platform module to create and manage processes.\n",
        "\n",
        "Works on all platforms including Windows and Linux.\n",
        "\n",
        "Provides an easy interface to start, communicate with, and manage processes.\n",
        "\n",
        "Automatically handles process creation using fork() (on Unix) or spawn() (on Windows).\n",
        "\n",
        "-Use when you want portable, readable, and structured multiprocessing code.\n"
      ],
      "metadata": {
        "id": "t33rJTMqsAaE"
      }
    },
    {
      "cell_type": "markdown",
      "source": [
        "#19.What is the importance of closing a file in Python?\n",
        "-Closing a file in Python is important to free up system resources and ensure that all data is properly written to the file.\n",
        "\n",
        "- Why is it important?\n",
        "\n",
        "1.Saves system resources\n",
        "\n",
        "Open files consume memory and file handles. Closing them frees those resources.\n",
        "\n",
        "2.Ensures data is saved\n",
        "\n",
        "If you're writing to a file, closing it flushes any remaining data from the buffer to the file.\n",
        "\n",
        "3.Prevents data corruption\n",
        "\n",
        "Leaving a file open too long can lead to data not being saved properly or file damage.\n",
        "\n",
        "5.Allows other programs to access the file\n",
        "\n",
        "Some systems lock open files, so closing allows others to use it."
      ],
      "metadata": {
        "id": "AY2QYM6bsA80"
      }
    },
    {
      "cell_type": "markdown",
      "source": [
        "#20.What is the difference between file.read() and file.readline() in Python?\n",
        "-Both file.read() and file.readline() are used to read data from a file, but they behave differently in how much data they read at a time.\n",
        "\n",
        "- file.read()\n",
        "\n",
        "Reads the entire file content (or a specified number of characters) at once.\n",
        "\n",
        "Returns it as a single string.\n",
        "\n",
        "Used when you want to process the whole file at once\n",
        "\n",
        "- file.readline()\n",
        "\n",
        "Reads one line at a time from the file.\n",
        "\n",
        "Returns it as a string (including the newline \\n).\n",
        "\n",
        "Useful for reading large files line by line."
      ],
      "metadata": {
        "id": "_WHYQHSHsBdB"
      }
    },
    {
      "cell_type": "markdown",
      "source": [
        "#21.What is the logging module in Python used for?\n",
        "-The logging module in Python is used to record messages that show what the program is doing while it runs. It helps in debugging, tracking errors, and monitoring the flow of execution. You can log different types of messages like debug information, general info, warnings, errors, and critical issues. These messages can be displayed on the screen or saved to a file. This makes it easier to understand problems in the code and maintain the program, especially in large or real-world applications\n"
      ],
      "metadata": {
        "id": "nV1TrkARvqN1"
      }
    },
    {
      "cell_type": "markdown",
      "source": [
        "#22.What is the os module in Python used for in file handling?\n",
        "-The os module in Python is used to interact with the operating system, especially for performing file and directory operations. It allows you to:\n",
        "\n",
        "- Create, delete, and rename files or folders\n",
        "\n",
        "- Check if a file or directory exists\n",
        "\n",
        "- Navigate through directories using os.getcwd() and os.chdir()\n",
        "\n",
        "- List files and folders in a directory with os.listdir()\n",
        "\n",
        "- Get file paths, sizes, and other attributes using os.path submodule\n",
        "\n",
        "- Work with system-level tasks like environment variables, processes, and permissions\n",
        "\n",
        "- It is widely used when automating file-related tasks or building file management scripts in Python\n"
      ],
      "metadata": {
        "id": "tUH_kqsGv9Qh"
      }
    },
    {
      "cell_type": "markdown",
      "source": [
        "#23.What are the challenges associated with memory management in Python?\n",
        "-Memory management in Python is mostly automatic, but there are still some challenges developers should be aware of:\n",
        "\n",
        "- Memory leaks:\n",
        "\n",
        " Even though Python has garbage collection, memory leaks can occur if objects are unintentionally kept in memory (like in long-lived lists, caches, or global variables).\n",
        "\n",
        "- Circular references:\n",
        "\n",
        " When two or more objects reference each other, the reference count never reaches zero. Python's garbage collector can handle this, but not always perfectly or immediately.\n",
        "\n",
        "- High memory usage:\n",
        "\n",
        " Python uses more memory than lower-level languages because of its dynamic typing and object model.\n",
        "\n",
        "- Delayed garbage collection:\n",
        "\n",
        " Python doesn’t always free memory right away. Sometimes it waits until memory pressure increases, which may affect performance.\n",
        "\n",
        "- Global Interpreter Lock (GIL):\n",
        "\n",
        " In CPython, the GIL limits true multi-threaded memory management, which can reduce performance in CPU-bound tasks.\n"
      ],
      "metadata": {
        "id": "k7-jr3n7v97g"
      }
    },
    {
      "cell_type": "markdown",
      "source": [
        "#24.How do you raise an exception manually in Python?\n",
        "-In Python, exceptions can be raised manually using the raise statement. This is done when the programmer wants to intentionally stop the program or signal that something has gone wrong during execution.\n",
        "\n",
        "To raise an exception, you specify the type of exception and an optional error message. This is useful for validating input, enforcing rules, or handling unexpected situations.\n",
        "\n",
        "For example, if a user enters invalid data, you can manually raise a ValueError to alert the program and prevent it from continuing with incorrect input.\n",
        "\n",
        "Manual exception raising improves code reliability, error reporting, and helps maintain clean program flow\n"
      ],
      "metadata": {
        "id": "CjfQ1Rn3v-1i"
      }
    },
    {
      "cell_type": "markdown",
      "source": [
        "#25.Why is it important to use multithreading in certain applications?\n",
        "-Multithreading is important in certain applications because it allows a program to perform multiple tasks at the same time within a single process. This is especially useful in I/O-bound applications, where the program spends time waiting for external resources like file systems, networks, or user input.\n",
        "\n",
        "Using multithreading can improve the responsiveness and efficiency of an application. For example, in a web browser, one thread can load a page while another stays responsive to user actions.\n",
        "\n",
        "Multithreading also helps in better resource utilization and can reduce the overall time taken for tasks that involve waiting or delays. However, it is not ideal for CPU-heavy tasks in Python due to the Global Interpreter Lock (GIL) in the CPython interpreter.\n",
        "\n",
        "In summary, multithreading is important for improving performance, responsiveness, and user experience in programs that deal with multiple simultaneous tasks or I/O operations.\n"
      ],
      "metadata": {
        "id": "OPdZDY1qv_Tf"
      }
    },
    {
      "cell_type": "markdown",
      "source": [
        "#**files & exceptional handling assignment practical answer.**"
      ],
      "metadata": {
        "id": "d9jD5rjxztSQ"
      }
    },
    {
      "cell_type": "code",
      "source": [
        "#1.How can you open a file for writing in Python and write a string to it?\n",
        "\n",
        "# Step 1: Write to the file\n",
        "with open(\"example.txt\", \"w\") as file:\n",
        "    file.write(\"Hello, this is a test message.\")\n",
        "\n",
        "# Step 2: Read the file to see what was written\n",
        "with open(\"example.txt\", \"r\") as file:\n",
        "    content = file.read()\n",
        "    print(content)  # This will display the file content on screen"
      ],
      "metadata": {
        "colab": {
          "base_uri": "https://localhost:8080/"
        },
        "id": "gWD990C9z7vk",
        "outputId": "160798e3-c032-45dc-8812-f613fd04dd5a"
      },
      "execution_count": null,
      "outputs": [
        {
          "output_type": "stream",
          "name": "stdout",
          "text": [
            "Hello, this is a test message.\n"
          ]
        }
      ]
    },
    {
      "cell_type": "code",
      "source": [
        "#2.Write a Python program to read the contents of a file and print each lineF.\n",
        "with open(\"example.txt\", \"r\") as file:\n",
        "    for line in file:\n",
        "        print(line.strip())  # Using strip() to remove newline characters\n"
      ],
      "metadata": {
        "colab": {
          "base_uri": "https://localhost:8080/"
        },
        "id": "zKDQqNX61JeH",
        "outputId": "da7399bb-f9ed-4e4f-b292-30572db50e6d"
      },
      "execution_count": null,
      "outputs": [
        {
          "output_type": "stream",
          "name": "stdout",
          "text": [
            "Hello, this is a test message.\n"
          ]
        }
      ]
    },
    {
      "cell_type": "code",
      "source": [
        "#3.How would you handle a case where the file doesn't exist while trying to open it for reading?\n",
        "try:\n",
        "    with open(\"missing_file.txt\", \"r\") as file:\n",
        "        content = file.read()\n",
        "        print(content)\n",
        "except FileNotFoundError:\n",
        "    print(\"The file does not exist.\")\n"
      ],
      "metadata": {
        "colab": {
          "base_uri": "https://localhost:8080/"
        },
        "id": "NdV8n8561ZBp",
        "outputId": "a12b9aa4-abb0-483f-b067-bdd1562ef0d8"
      },
      "execution_count": null,
      "outputs": [
        {
          "output_type": "stream",
          "name": "stdout",
          "text": [
            "The file does not exist.\n"
          ]
        }
      ]
    },
    {
      "cell_type": "code",
      "source": [
        "#Creating source.txt\n",
        "\n",
        "with open(\"source.txt\", \"w\") as file:\n",
        "    file.write(\"Hello, this is the source file.\\nPython is awesome!\")"
      ],
      "metadata": {
        "id": "L-uIj18Pqtay"
      },
      "execution_count": null,
      "outputs": []
    },
    {
      "cell_type": "code",
      "source": [
        "#4.Write a Python script that reads from one file and writes its content to another fileF.\n",
        "with open(\"source.txt\", \"r\") as source_file:\n",
        "    content = source_file.read()\n",
        "\n",
        "with open(\"destination.txt\", \"w\") as destination_file:\n",
        "    destination_file.write(content)\n",
        "    print(\"Content copied from source.txt to destination.txt\")"
      ],
      "metadata": {
        "id": "_swoUZPW1YhD",
        "colab": {
          "base_uri": "https://localhost:8080/"
        },
        "outputId": "2a400980-380b-46bd-f1f6-e35cf2c0a7a7"
      },
      "execution_count": 6,
      "outputs": [
        {
          "output_type": "stream",
          "name": "stdout",
          "text": [
            "Content copied from source.txt to destination.txt\n"
          ]
        }
      ]
    },
    {
      "cell_type": "code",
      "source": [
        "#5.How would you catch and handle division by zero error in Python?\n",
        "try:\n",
        "    result = 10 / 0\n",
        "except ZeroDivisionError:\n",
        "    print(\"Error: Division by zero is not allowed.\")"
      ],
      "metadata": {
        "id": "oSDS7nhA1YGw",
        "colab": {
          "base_uri": "https://localhost:8080/"
        },
        "outputId": "373ebdcd-9d8a-48bf-b058-2c6b27da0f51"
      },
      "execution_count": null,
      "outputs": [
        {
          "output_type": "stream",
          "name": "stdout",
          "text": [
            "Error: Division by zero is not allowed.\n"
          ]
        }
      ]
    },
    {
      "cell_type": "code",
      "source": [
        "#6.Write a Python program that logs an error message to a log file when a division by zero exception occursF\n",
        "import logging\n",
        "\n",
        "logging.basicConfig(filename=\"error_log.txt\", level=logging.ERROR)\n",
        "\n",
        "try:\n",
        "    result = 10 / 0\n",
        "except ZeroDivisionError:\n",
        "    logging.error(\"Division by zero error occurred.\")"
      ],
      "metadata": {
        "colab": {
          "base_uri": "https://localhost:8080/"
        },
        "id": "y5Flg8pc5iS5",
        "outputId": "54b32ee5-7ef4-417f-d1aa-193f0cb05458"
      },
      "execution_count": null,
      "outputs": [
        {
          "output_type": "stream",
          "name": "stderr",
          "text": [
            "ERROR:root:Division by zero error occurred.\n"
          ]
        }
      ]
    },
    {
      "cell_type": "code",
      "source": [
        "#7.How do you log information at different levels (INFO, ERROR, WARNING) in Python using the logging module?\n",
        "import logging\n",
        "\n",
        "logging.basicConfig(level=logging.INFO)\n",
        "\n",
        "logging.info(\"This is an info message.\")\n",
        "\n",
        "logging.warning(\"This is a warning message.\")\n",
        "\n",
        "logging.error(\"This is an error message.\")\n"
      ],
      "metadata": {
        "colab": {
          "base_uri": "https://localhost:8080/"
        },
        "id": "4gfWlb2E6MEf",
        "outputId": "7acd55c5-25d0-433b-83f5-b6935bb5b5a5"
      },
      "execution_count": null,
      "outputs": [
        {
          "output_type": "stream",
          "name": "stderr",
          "text": [
            "WARNING:root:This is a warning message.\n",
            "ERROR:root:This is an error message.\n"
          ]
        }
      ]
    },
    {
      "cell_type": "code",
      "source": [
        "#8.Write a program to handle a file opening error using exception handling.\n",
        "try:\n",
        "    with open(\"nonexistent_file.txt\", \"r\") as file:\n",
        "        content = file.read()\n",
        "except FileNotFoundError:\n",
        "    print(\"Error: The file does not exist.\")\n"
      ],
      "metadata": {
        "colab": {
          "base_uri": "https://localhost:8080/"
        },
        "id": "H5mi1thp6X9e",
        "outputId": "7945297d-07ae-4fee-ce01-ff95646bde2b"
      },
      "execution_count": null,
      "outputs": [
        {
          "output_type": "stream",
          "name": "stdout",
          "text": [
            "Error: The file does not exist.\n"
          ]
        }
      ]
    },
    {
      "cell_type": "code",
      "source": [
        "#9.How can you read a file line by line and store its content in a list in Python?\n",
        "with open(\"example.txt\", \"r\") as file:\n",
        "    lines = file.readlines()\n",
        "    for line in lines:\n",
        "        print(line.strip())\n"
      ],
      "metadata": {
        "colab": {
          "base_uri": "https://localhost:8080/"
        },
        "id": "GcYdBA8y640b",
        "outputId": "8d87ee2f-0836-4c8e-bcb8-66e76b47ec2f"
      },
      "execution_count": null,
      "outputs": [
        {
          "output_type": "stream",
          "name": "stdout",
          "text": [
            "Hello, this is a test message.\n"
          ]
        }
      ]
    },
    {
      "cell_type": "code",
      "source": [
        "#10.How can you append data to an existing file in Python.\n",
        "\n",
        "# Step 1: Create a file with some original content\n",
        "with open(\"example.txt\", \"w\") as file:\n",
        "    file.write(\"This is the original content.\")\n",
        "\n",
        "# Step 2: Append new content to the same file\n",
        "with open(\"example.txt\", \"a\") as file:\n",
        "    file.write(\"\\nThis is the appended content.\")\n",
        "\n",
        "# Step 3: Read and print the updated content of the file\n",
        "with open(\"example.txt\", \"r\") as file:\n",
        "    content = file.read()\n",
        "    print(\"📄 File content after appending:\\n\")\n",
        "    print(content)\n",
        "\n",
        "\n",
        "\n"
      ],
      "metadata": {
        "colab": {
          "base_uri": "https://localhost:8080/"
        },
        "id": "pC16logR7yeQ",
        "outputId": "317b59ae-f362-4877-f440-5c851b8e3ab5"
      },
      "execution_count": null,
      "outputs": [
        {
          "output_type": "stream",
          "name": "stdout",
          "text": [
            "📄 File content after appending:\n",
            "\n",
            "This is the original content.\n",
            "This is the appended content.\n"
          ]
        }
      ]
    },
    {
      "cell_type": "code",
      "source": [
        "#11. Write a Python program that uses a try-except block to handle an error when attempting to access a dictionary key that doesn't exist\n",
        "try:\n",
        "    my_dict = {\"apple\": 3, \"banana\": 5, \"cherry\": 2}\n",
        "    key = \"date\"\n",
        "    value = my_dict[key]\n",
        "    print(f\"Value for key '{key}': {value}\")\n",
        "except KeyError:\n",
        "    print(f\"Error: Key '{key}' does not exist in the dictionary.\")\n",
        "\n"
      ],
      "metadata": {
        "colab": {
          "base_uri": "https://localhost:8080/"
        },
        "id": "uiBNVcrm8lrI",
        "outputId": "c3d06b97-1e9c-4ee6-9fa8-71d11117e2e4"
      },
      "execution_count": null,
      "outputs": [
        {
          "output_type": "stream",
          "name": "stdout",
          "text": [
            "Error: Key 'date' does not exist in the dictionary.\n"
          ]
        }
      ]
    },
    {
      "cell_type": "code",
      "source": [
        "#12.Write a program that demonstrates using multiple except blocks to handle different types of exceptionsF\n",
        "try:\n",
        "    num1 = int(input(\"Enter a number: \"))\n",
        "    num2 = int(input(\"Enter another number: \"))\n",
        "    result = num1 / num2\n",
        "    print(\"Result:\", result)\n",
        "\n",
        "except ZeroDivisionError:\n",
        "    print(\"Error: Cannot divide by zero!\")\n",
        "\n",
        "except ValueError:\n",
        "    print(\"Error: Please enter valid integers only.\")\n",
        "\n",
        "except Exception as e:\n",
        "    print(\"An unexpected error occurred:\", e)\n"
      ],
      "metadata": {
        "colab": {
          "base_uri": "https://localhost:8080/"
        },
        "id": "GnJl2ED5P8mq",
        "outputId": "c6abe614-fdda-4dd3-f244-dcb0d60bbafc"
      },
      "execution_count": null,
      "outputs": [
        {
          "output_type": "stream",
          "name": "stdout",
          "text": [
            "Enter a number: 8\n",
            "Enter another number: 9\n",
            "Result: 0.8888888888888888\n"
          ]
        }
      ]
    },
    {
      "cell_type": "code",
      "source": [
        "#13.How would you check if a file exists before attempting to read it in Python.\n",
        "import os\n",
        "\n",
        "file_path = \"example.txt\"\n",
        "\n",
        "if os.path.exists(file_path):\n",
        "    with open(file_path, 'r') as file:\n",
        "        content = file.read()\n",
        "        print(\"File content:\\n\", content)\n",
        "else:\n",
        "    print(\"File does not exist.\")\n",
        "\n"
      ],
      "metadata": {
        "colab": {
          "base_uri": "https://localhost:8080/"
        },
        "id": "6SUqPwp_QY8F",
        "outputId": "24aa6597-a125-4622-8737-45b71baa7bc1"
      },
      "execution_count": null,
      "outputs": [
        {
          "output_type": "stream",
          "name": "stdout",
          "text": [
            "File does not exist.\n"
          ]
        }
      ]
    },
    {
      "cell_type": "code",
      "source": [
        "#14.Write a program that uses the logging module to log both informational and error messages\n",
        "import logging\n",
        "\n",
        "logging.basicConfig(filename=\"app.log\", level=logging.INFO)\n",
        "\n",
        "logging.info(\"This is an informational message.\")\n",
        "\n",
        "logging.error(\"This is an error message.\")"
      ],
      "metadata": {
        "colab": {
          "base_uri": "https://localhost:8080/"
        },
        "id": "L--_08O1RDmQ",
        "outputId": "a8e7837e-4eab-4f5b-fcef-cd3fdfb17fac"
      },
      "execution_count": 15,
      "outputs": [
        {
          "output_type": "stream",
          "name": "stderr",
          "text": [
            "ERROR:root:This is an error message.\n"
          ]
        }
      ]
    },
    {
      "cell_type": "code",
      "source": [
        "#15.Write a Python program that prints the content of a file and handles the case when the file is empty.\n",
        "\n",
        "# Define the file path\n",
        "file_path = \"example.txt\"\n",
        "\n",
        "try:\n",
        "    # Open the file in read mode\n",
        "    with open(file_path, 'r') as file:\n",
        "        content = file.read().strip()  # Read and remove leading/trailing whitespace\n",
        "\n",
        "        # Check if the file is empty\n",
        "        if not content:\n",
        "            print(f\"The file '{file_path}' is empty.\")\n",
        "        else:\n",
        "            print(f\"Content of the file '{file_path}':\")\n",
        "            print(content)\n",
        "\n",
        "except FileNotFoundError:\n",
        "    print(f\"Error: The file '{file_path}' does not exist.\")\n",
        "except Exception as e:\n",
        "    print(f\"An unexpected error occurred: {e}\")"
      ],
      "metadata": {
        "id": "k2fvIqN2RMlA",
        "colab": {
          "base_uri": "https://localhost:8080/"
        },
        "outputId": "2b030975-5146-4cdd-92bd-98c764095e3c"
      },
      "execution_count": 20,
      "outputs": [
        {
          "output_type": "stream",
          "name": "stdout",
          "text": [
            "The file 'example.txt' is empty.\n"
          ]
        }
      ]
    },
    {
      "cell_type": "code",
      "source": [
        "#16.Demonstrate how to use memory profiling to check the memory usage of a small program.\n",
        "#  Import required modules\n",
        "from memory_profiler import memory_usage\n",
        "import time\n",
        "\n",
        "#  Small function to test memory usage\n",
        "def create_list():\n",
        "    my_list = [i ** 2 for i in range(100000)]\n",
        "    time.sleep(1)  # simulate processing delay\n",
        "    return my_list\n",
        "\n",
        "# Profile the memory used by the function\n",
        "mem_usage = memory_usage((create_list, ))\n",
        "\n",
        "#  Print memory used\n",
        "print(f\"Memory used: {max(mem_usage) - min(mem_usage):.2f} MiB\")"
      ],
      "metadata": {
        "colab": {
          "base_uri": "https://localhost:8080/"
        },
        "id": "PsDFvbN8ukzb",
        "outputId": "c35e8daf-5a93-4c14-9034-a4d6e23eec77"
      },
      "execution_count": 28,
      "outputs": [
        {
          "output_type": "stream",
          "name": "stdout",
          "text": [
            "Memory used: 0.00 MiB\n"
          ]
        }
      ]
    },
    {
      "cell_type": "code",
      "source": [
        "!pip install -q memory-profiler\n"
      ],
      "metadata": {
        "id": "9ApLys7q2HHr"
      },
      "execution_count": 21,
      "outputs": []
    },
    {
      "cell_type": "code",
      "source": [
        "#17.Write a Python program to create and write a list of numbers to a file, one number per line.\n",
        "with open(\"numbers.txt\", \"w\") as file:\n",
        "    numbers = [1, 2, 3, 4, 5]\n",
        "    for num in numbers:\n",
        "        file.write(str(num) + \"\\n\")\n",
        "        print(\"Numbers written to file successfully.\")\n"
      ],
      "metadata": {
        "colab": {
          "base_uri": "https://localhost:8080/"
        },
        "id": "f-bBtW-b25lA",
        "outputId": "24fc77ff-978b-464a-8ba4-afe13a8af932"
      },
      "execution_count": 24,
      "outputs": [
        {
          "output_type": "stream",
          "name": "stdout",
          "text": [
            "Numbers written to file successfully.\n",
            "Numbers written to file successfully.\n",
            "Numbers written to file successfully.\n",
            "Numbers written to file successfully.\n",
            "Numbers written to file successfully.\n"
          ]
        }
      ]
    },
    {
      "cell_type": "code",
      "source": [
        "#18.How would you implement a basic logging setup that logs to a file with rotation after 1MB.\n",
        "import logging\n",
        "from logging.handlers import RotatingFileHandler\n",
        "\n",
        "# Step 1: Set up RotatingFileHandler\n",
        "log_handler = RotatingFileHandler(\n",
        "    \"app.log\",         # log file name\n",
        "    maxBytes=1*1024*1024,  # rotate after 1 MB (1MB = 1024*1024 bytes)\n",
        "    backupCount=3         # keep last 3 backup files\n",
        ")\n",
        "\n",
        "# Step 2: Set logging format\n",
        "formatter = logging.Formatter('%(asctime)s - %(levelname)s - %(message)s')\n",
        "log_handler.setFormatter(formatter)\n",
        "\n",
        "# Step 3: Configure logging\n",
        "logger = logging.getLogger()\n",
        "logger.setLevel(logging.INFO)\n",
        "logger.addHandler(log_handler)\n",
        "\n",
        "# Step 4: Write some test logs\n",
        "for i in range(10):\n",
        "    logger.info(f\"This is test log message number {i}\")\n",
        "\n"
      ],
      "metadata": {
        "colab": {
          "base_uri": "https://localhost:8080/"
        },
        "id": "juuh5RWG3KI2",
        "outputId": "763d5d53-952b-4240-e642-057b6639a8fd"
      },
      "execution_count": 30,
      "outputs": [
        {
          "output_type": "stream",
          "name": "stderr",
          "text": [
            "INFO:root:This is test log message number 0\n",
            "INFO:root:This is test log message number 1\n",
            "INFO:root:This is test log message number 2\n",
            "INFO:root:This is test log message number 3\n",
            "INFO:root:This is test log message number 4\n",
            "INFO:root:This is test log message number 5\n",
            "INFO:root:This is test log message number 6\n",
            "INFO:root:This is test log message number 7\n",
            "INFO:root:This is test log message number 8\n",
            "INFO:root:This is test log message number 9\n"
          ]
        }
      ]
    },
    {
      "cell_type": "code",
      "source": [
        "#19.Write a program that handles both IndexError and KeyError using a try-except block.\n",
        "try:\n",
        "    # Example 1: IndexError\n",
        "    my_list = [10, 20, 30]\n",
        "    print(my_list[5])  # Invalid index\n",
        "\n",
        "    # Example 2: KeyError\n",
        "    my_dict = {\"name\": \"Muskan\", \"age\": 22}\n",
        "    print(my_dict[\"gender\"])  # Invalid key\n",
        "\n",
        "except IndexError:\n",
        "    print(\"Caught an IndexError: List index is out of range.\")\n",
        "\n",
        "except KeyError:\n",
        "    print(\"Caught a KeyError: Key not found in dictionary.\")"
      ],
      "metadata": {
        "colab": {
          "base_uri": "https://localhost:8080/"
        },
        "id": "i81QdnZv4yLO",
        "outputId": "a8fe3efd-9971-4d59-8932-ae9bb7762670"
      },
      "execution_count": 31,
      "outputs": [
        {
          "output_type": "stream",
          "name": "stdout",
          "text": [
            "Caught an IndexError: List index is out of range.\n"
          ]
        }
      ]
    },
    {
      "cell_type": "code",
      "source": [
        "#20.How would you open a file and read its contents using a context manager in Python\n",
        "with open(\"example.txt\", \"r\") as file:\n",
        "    content = file.read()\n",
        "    print(content)\n",
        "    print(\"File closed automatically.\")\n",
        "\n"
      ],
      "metadata": {
        "colab": {
          "base_uri": "https://localhost:8080/"
        },
        "id": "G5h05bPJ54UI",
        "outputId": "e47290e1-f9f9-4544-c2f6-1eac760656ce"
      },
      "execution_count": 32,
      "outputs": [
        {
          "output_type": "stream",
          "name": "stdout",
          "text": [
            "\n",
            "File closed automatically.\n"
          ]
        }
      ]
    },
    {
      "cell_type": "code",
      "source": [
        "#21.Write a Python program that reads a file and prints the number of occurrences of a specific word.\n",
        "# Define file name and word to count\n",
        "filename = \"sample.txt\"\n",
        "word_to_count = \"python\"\n",
        "\n",
        "try:\n",
        "    with open(filename, 'r') as file:\n",
        "        content = file.read().lower()  # read file and convert to lowercase\n",
        "\n",
        "        # Count occurrences of the specific word\n",
        "        word_count = content.count(word_to_count.lower())\n",
        "\n",
        "        print(f\"The word '{word_to_count}' occurred {word_count} times in the file.\")\n",
        "\n",
        "except FileNotFoundError:\n",
        "    print(f\"The file '{filename}' was not found.\")\n",
        "except Exception as e:\n",
        "    print(\"An error occurred:\", e)\n"
      ],
      "metadata": {
        "colab": {
          "base_uri": "https://localhost:8080/"
        },
        "id": "i5PLd80d6Txa",
        "outputId": "809daf3b-5be5-48fc-a3a9-17ed23f0cfd0"
      },
      "execution_count": 36,
      "outputs": [
        {
          "output_type": "stream",
          "name": "stdout",
          "text": [
            "The word 'python' occurred 3 times in the file.\n"
          ]
        }
      ]
    },
    {
      "cell_type": "code",
      "source": [
        "# Create a file named sample.txt with some text\n",
        "with open(\"sample.txt\", \"w\") as file:\n",
        "    file.write(\"Python is fun. Python is powerful. I love Python!\")\n"
      ],
      "metadata": {
        "id": "391y23o37n_i"
      },
      "execution_count": 35,
      "outputs": []
    },
    {
      "cell_type": "code",
      "source": [
        "#22.How can you check if a file is empty before attempting to read its contents.\n",
        "import os\n",
        "\n",
        "filename = \"sample.txt\"\n",
        "\n",
        "if os.path.exists(filename):\n",
        "    if os.path.getsize(filename) == 0:\n",
        "        print(\"The file is empty.\")\n",
        "    else:\n",
        "        with open(filename, 'r') as file:\n",
        "            content = file.read()\n",
        "            print(\"File content:\")\n",
        "            print(content)\n",
        "else:\n",
        "    print(f\"The file '{filename}' does not exist.\")\n"
      ],
      "metadata": {
        "colab": {
          "base_uri": "https://localhost:8080/"
        },
        "id": "GAcmdA617r2e",
        "outputId": "e22a0cb1-fe57-4249-9eec-1f9909b2d754"
      },
      "execution_count": 38,
      "outputs": [
        {
          "output_type": "stream",
          "name": "stdout",
          "text": [
            "The file is empty.\n"
          ]
        }
      ]
    },
    {
      "cell_type": "code",
      "source": [
        "# Create an empty file (for testing the \"empty\" case)\n",
        "with open(\"sample.txt\", \"w\") as file:\n",
        "    pass  # no content written, so file remains empty\n"
      ],
      "metadata": {
        "id": "8NHowYBD8UYg"
      },
      "execution_count": 37,
      "outputs": []
    },
    {
      "cell_type": "code",
      "source": [
        "#23.Write a Python program that writes to a log file when an error occurs during file handling.\n",
        "import logging\n",
        "\n",
        "# Step 1: Set up logging configuration\n",
        "logging.basicConfig(\n",
        "    filename='error_log.txt',\n",
        "    level=logging.ERROR,\n",
        "    format='%(asctime)s - %(levelname)s - %(message)s'\n",
        ")\n",
        "\n",
        "# Step 2: Try to open and read a file\n",
        "filename = \"myfile.txt\"\n",
        "\n",
        "try:\n",
        "    with open(filename, 'r') as file:\n",
        "        content = file.read()\n",
        "        print(\"File content:\")\n",
        "        print(content)\n",
        "\n",
        "except Exception as e:\n",
        "    # Step 3: Log the error\n",
        "    logging.error(f\"Error occurred while handling file '{filename}': {e}\")\n",
        "    print(\"An error occurred. Check error_log.txt for details.\")"
      ],
      "metadata": {
        "colab": {
          "base_uri": "https://localhost:8080/"
        },
        "id": "zW891By58gKp",
        "outputId": "52ca6dcd-cc9c-491c-b794-3ee0f34d5b1c"
      },
      "execution_count": 43,
      "outputs": [
        {
          "output_type": "stream",
          "name": "stderr",
          "text": [
            "ERROR:root:Error occurred while handling file 'myfile.txt': [Errno 2] No such file or directory: 'myfile.txt'\n"
          ]
        },
        {
          "output_type": "stream",
          "name": "stdout",
          "text": [
            "An error occurred. Check error_log.txt for details.\n"
          ]
        }
      ]
    }
  ]
}