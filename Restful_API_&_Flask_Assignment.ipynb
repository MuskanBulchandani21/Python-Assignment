{
  "nbformat": 4,
  "nbformat_minor": 0,
  "metadata": {
    "colab": {
      "provenance": []
    },
    "kernelspec": {
      "name": "python3",
      "display_name": "Python 3"
    },
    "language_info": {
      "name": "python"
    }
  },
  "cells": [
    {
      "cell_type": "markdown",
      "source": [
        "#**Restful API & Flask Theory Answers.**\n",
        "\n"
      ],
      "metadata": {
        "id": "RhLG_rpXmBxI"
      }
    },
    {
      "cell_type": "markdown",
      "source": [
        "#1. What is a RESTful API ?\n",
        "- A RESTful API (Representational State Transfer) is an architectural style for designing networked applications. It is based on stateless communication, uses HTTP methods (GET, POST, PUT, DELETE), and typically works with JSON data. RESTful APIs are scalable, stateless, and lightweight, making them ideal for web services and applications.\n",
        "\n"
      ],
      "metadata": {
        "id": "_BOi9UxhmVxU"
      }
    },
    {
      "cell_type": "markdown",
      "source": [
        "#2.Explain the concept of API specification.\n",
        "- API specification is a document or description that outlines how an API is expected to behave. It defines the endpoints, request methods, parameters, response format, and status codes. This helps developers understand how to interact with the API and what results to expect.\n",
        "\n"
      ],
      "metadata": {
        "id": "mJCDM3qAmjmf"
      }
    },
    {
      "cell_type": "markdown",
      "source": [
        "#3.What is Flask, and why is it popular for building APIs ?\n",
        "- Flask is a lightweight Python web framework used to build web applications and APIs. It is popular for its simplicity, flexibility, and minimal setup, which makes it an ideal choice for small to medium-sized projects. Flask is easy to extend with libraries and is highly customizable.\n",
        "\n"
      ],
      "metadata": {
        "id": "HfyKAn5Rmrgf"
      }
    },
    {
      "cell_type": "markdown",
      "source": [
        "#4.What is routing in Flask ?\n",
        "- Routing in Flask is the process of defining URL patterns that map to specific functions (or views). Each route in Flask corresponds to an HTTP request type (GET, POST, etc.)and is used to handle requests and send appropriate responses.\n",
        "\n"
      ],
      "metadata": {
        "id": "tZnL9vdDm0fe"
      }
    },
    {
      "cell_type": "markdown",
      "source": [
        "#5.How do you create a simple Flask application ?\n",
        "- To create a simple Flask application, first install Flask using pip (pip install flask). Then, import Flask, create an instance of the Flask class, and define routes using decorators. Finally, use app.run() to start the server.\n",
        "\n"
      ],
      "metadata": {
        "id": "Q-ElBRQXnAum"
      }
    },
    {
      "cell_type": "markdown",
      "source": [
        "#6. What are HTTP methods used in RESTful APIs?\n",
        "- HTTP methods commonly used in RESTful APIs include GET (retrieve data), POST (create data), PUT (update data), DELETE (delete data), and PATCH (partially update data) These methods define the operations that can be performed on resources.\n"
      ],
      "metadata": {
        "id": "alPbwnJpn_q1"
      }
    },
    {
      "cell_type": "markdown",
      "source": [
        "#7.What is the purpose of the @app.route() decorator in Flask?\n",
        "- In Flask, the @app.route() decorator is used to define the URL route (or path) that should trigger a specific function (called a view function). It connects a URL with a Python function that should run when that URL is accessed in a browser.\n",
        "\n",
        "-Purpose of @app.route():\n",
        "\n",
        "It maps a specific URL to a function so that when a user visits that URL, Flask knows which function to execute.\n",
        "\n",
        "\n"
      ],
      "metadata": {
        "id": "yGa8lVvhoa4r"
      }
    },
    {
      "cell_type": "markdown",
      "source": [
        "#8.What is the difference between GET and POST HTTP methods?\n",
        "- The GET method retrieves data from the server and should not modify any data. POST, on the other hand, is used to send data to the server, typically to create or update resources. GET requests are generally cached, while POST requests are not.\n"
      ],
      "metadata": {
        "id": "nRLZXfv1oxfK"
      }
    },
    {
      "cell_type": "markdown",
      "source": [
        "#9. How do you handle errors in Flask APIs?\n",
        "- Flask provides error handling via @app.errorhandler() or by manually raising exceptions within routes. Commonly, HTTP status codes like 404 (not found), 400 (bad request), and 500 (internal server error) are used to indicate different errors. Custom error messages can also be returned in the response.\n"
      ],
      "metadata": {
        "id": "N_5yly3Oo7JL"
      }
    },
    {
      "cell_type": "markdown",
      "source": [
        "#10. How do you connect Flask to a SQL database?\n",
        "- Flask can be connected to a SQL database using libraries such as Flask-SQLAlchemy. First, install SQLAlchemy (pip install flask-sqlalchemy), configure the database URI, and create models representing the database tables. You can then query and manipulate the database using SQLAlchemy ORM methods.\n"
      ],
      "metadata": {
        "id": "AhHgP1XGpBYc"
      }
    },
    {
      "cell_type": "markdown",
      "source": [
        "#11. What is the role of Flask-SQLAlchemy?\n",
        "- Flask-SQLAlchemy is an extension for Flask that simplifies database interaction by integrating SQLAlchemy with Flask. It provides an ORM (Object-Relational Mapping) to map Python classes to database tables, making it easier to query and manage databases within Flask applications.\n"
      ],
      "metadata": {
        "id": "dDGYvAJppJwi"
      }
    },
    {
      "cell_type": "markdown",
      "source": [
        "#12. What are Flask blueprints, and how are they useful?\n",
        "- Flask blueprints allow you to organize your application into modular components. Each blueprint can contain routes, views, templates, and static files. This is useful for larger applications, as it helps in separating different parts of the application for better structure and maintainability.\n"
      ],
      "metadata": {
        "id": "Z7k4auqkpPI0"
      }
    },
    {
      "cell_type": "markdown",
      "source": [
        "#13. What is the purpose of Flasks request object?\n",
        "- The request object in Flask is used to access incoming HTTP request data, including form data, JSON payloads, URL parameters, and headers. It is essential for handling data sent by clients when interacting with an API."
      ],
      "metadata": {
        "id": "B_j7dW6apYmX"
      }
    },
    {
      "cell_type": "markdown",
      "source": [
        "#14. How do you create a RESTful API endpoint using Flask?\n",
        "- To create a RESTful API endpoint in Flask, define a function using the @app.route() decorator, specifying the HTTP method (e.g., GET or POST). The function will handle incoming requests and return a response, often in JSON format.\n"
      ],
      "metadata": {
        "id": "E2LcoLjNp7lv"
      }
    },
    {
      "cell_type": "markdown",
      "source": [
        "#15. What is the purpose of Flask's jsonify() function?\n",
        "- The jsonify() function in Flask is used to convert Python dictionaries or lists into JSON format and set the appropriate response headers. This function makes it easier to send JSON responses from a Flask API.\n"
      ],
      "metadata": {
        "id": "PWFVVjTkqAU7"
      }
    },
    {
      "cell_type": "markdown",
      "source": [
        "#16. Explain Flask's url_for() function.\n",
        "- url_for() is a Flask function used to generate a URL for a given endpoint or view function. This is useful for linking between different parts of the application, and it dynamically builds URLs based on the route names."
      ],
      "metadata": {
        "id": "hNGO5IzEqLr3"
      }
    },
    {
      "cell_type": "markdown",
      "source": [
        "#17. How does Flask handle static files (CSS, JavaScript, etc.)?\n",
        "- Flask serves static files like CSS, JavaScript, and images from a directory called \"static.\" By default, the static folder is accessible through the /static URL. Files placed in this folder can be referenced in HTML templates or returned directly by Flask."
      ],
      "metadata": {
        "id": "1CVkHvwkqS9o"
      }
    },
    {
      "cell_type": "markdown",
      "source": [
        "#18. What is an API specification, and how does it help in building a Flask API?\n",
        "- An API specification is a clear, written description of how an API works — what endpoints are available, what data it needs, and what it returns.\n",
        "In building a Flask API, an API spec helps by:\n",
        "\n",
        "Planning : You know what to build before coding.\n",
        "\n",
        "Consistency : Everyone follows the same structure.\n",
        "\n",
        "Communication : Makes it easy for teams and apps to understand and use your API.\n",
        "\n",
        "Documentation : Can be used to auto-generate docs (like with Swagger)."
      ],
      "metadata": {
        "id": "lUHryc6sqhZN"
      }
    },
    {
      "cell_type": "markdown",
      "source": [
        "#19. What are HTTP status codes, and why are they important in a Flask API?\n",
        "- HTTP status codes are 3-digit numbers returned by a server to show the result of a request (like 200 for success, 404 for not found).\n",
        "\n",
        "In a Flask API, they are important because they:\n",
        "\n",
        "1.Tell the client what happened (success, error, etc.)\n",
        "\n",
        "2.Help with debugging\n",
        "\n",
        "3.Make the API more reliable and user-friendly"
      ],
      "metadata": {
        "id": "L87Pt7OWq3kw"
      }
    },
    {
      "cell_type": "markdown",
      "source": [
        "#20. How do you handle POST requests in Flask?\n",
        "- In Flask, POST requests are handled using the @app.route() decorator with the methods=['POST'] parameter. The POST method is commonly used to send data from a client (like a web form or API call) to the server.\n",
        "\n",
        "--To access the data sent in a POST request, Flask provides the request object, which can retrieve:\n",
        "\n",
        "- request.form – for form data (e.g., from HTML forms)\n",
        "\n",
        "- request.json – for JSON data (e.g., from APIs)\n",
        "\n",
        "- request.data – for raw data\n",
        "\n",
        "--To handle a POST request:\n",
        "\n",
        "1-Define a route with methods=['POST'].\n",
        "\n",
        "2-Use the request object to extract the data sent by the client.\n",
        "\n",
        "3-Process the data and send a response.\n",
        "\n",
        "This allows the server to receive input from users, store information in databases, or perform any action based on user input."
      ],
      "metadata": {
        "id": "IRfZjQn4rLDP"
      }
    },
    {
      "cell_type": "markdown",
      "source": [
        "#21. How would you secure a Flask APP?\n",
        "- Flask API security can be implemented using various methods, including authentication (via tokens like JWT or OAuth), input validation, CORS handling, rate limiting, and encryption of sensitive data. Flask extensions like Flask-JWT and Flask-OAuth can help implement these security features."
      ],
      "metadata": {
        "id": "fIEk-v6osutX"
      }
    },
    {
      "cell_type": "markdown",
      "source": [
        "#22. What is the significance of the Flask-RESTful extension?\n",
        "- Flask-RESTful is an extension that adds support for quickly building REST APIs. It provides tools for creating resources, handling HTTP methods, and organizing routes. This extension simplifies the process of building APIs by offering convenient features like request parsing and response formatting."
      ],
      "metadata": {
        "id": "zNCi_cSutflN"
      }
    },
    {
      "cell_type": "markdown",
      "source": [
        "#23. What is the role of Flask's session object?\n",
        "- The session object in Flask is used to store data between requests, typically for maintaining user sessions. Data stored in the session is usually saved on the client-side (in cookies) and can be used for tracking user activity or authentication."
      ],
      "metadata": {
        "id": "VWnTpHAntml5"
      }
    },
    {
      "cell_type": "markdown",
      "source": [
        "##**Restful API & Flask Practical Answers.**\n"
      ],
      "metadata": {
        "id": "BZWOgI6ctt-h"
      }
    },
    {
      "cell_type": "code",
      "source": [
        "#1. How do you create a basic Flask application?\n",
        "from flask import Flask\n",
        "app = Flask(__name__)\n",
        "\n",
        "@app.route('/')\n",
        "def home():\n",
        "    return 'Hello, Flask!'\n",
        "\n",
        "if __name__ == '__main__':\n",
        "    app.run(debug=True)\n"
      ],
      "metadata": {
        "id": "WaKoz08awKTD"
      },
      "execution_count": null,
      "outputs": []
    },
    {
      "cell_type": "code",
      "source": [
        "#2. How do you serve static files like images or CSS in Flask?\n",
        "\n",
        "from flask import Flask, send_from_directory\n",
        "app = Flask(__name__)\n",
        "\n",
        "@app.route('/static/')\n",
        "def send_static(filename):\n",
        "    return send_from_directory('static', filename)\n",
        "\n",
        "if __name__ == '__main__':\n",
        "    app.run(debug=True)\n"
      ],
      "metadata": {
        "id": "58Gnb7jdwL_B"
      },
      "execution_count": null,
      "outputs": []
    },
    {
      "cell_type": "code",
      "source": [
        "#3. How do you define different routes with different HTTP methods in Flask?\n",
        "\n",
        "from flask import Flask\n",
        "app = Flask(__name__)\n",
        "\n",
        "@app.route('/greet', methods=['GET'])\n",
        "def greet():\n",
        "    return \"Hello World!\"\n",
        "\n",
        "if __name__ == '__main__':\n",
        "    app.run(debug=True)\n"
      ],
      "metadata": {
        "id": "ULIQbEqQwqeT"
      },
      "execution_count": null,
      "outputs": []
    },
    {
      "cell_type": "code",
      "source": [
        "#4. How do you render HTML templates in Flask?\n",
        "\n",
        "from flask import Flask, render_template\n",
        "app = Flask(__name__)\n",
        "\n",
        "@app.route('/')\n",
        "def index():\n",
        "    return render_template('index.html')\n",
        "\n",
        "if __name__ == '__main__':\n",
        "    app.run(debug=True)"
      ],
      "metadata": {
        "id": "9Dn_TFtTwwNQ"
      },
      "execution_count": null,
      "outputs": []
    },
    {
      "cell_type": "code",
      "source": [
        "#5. How can you generate URLs for routes in Flask using url_for?\n",
        "\n",
        "from flask import Flask, url_for\n",
        "app = Flask(__name__)\n",
        "\n",
        "@app.route('/home')\n",
        "def home():\n",
        "    return 'This is the home page.'\n",
        "\n",
        "@app.route('/')\n",
        "def index():\n",
        "    return f'Go to Home'\n",
        "\n",
        "if __name__ == '__main__':\n",
        "    app.run(debug=True)\n"
      ],
      "metadata": {
        "id": "Jghbiy45w0w6"
      },
      "execution_count": null,
      "outputs": []
    },
    {
      "cell_type": "code",
      "source": [
        "#6. How do you handle forms in Flask?\n",
        "\n",
        "from flask import Flask, request, render_template\n",
        "app = Flask(__name__)\n",
        "\n",
        "@app.route('/submit', methods=['GET', 'POST'])\n",
        "def submit():\n",
        "    if request.method == 'POST':\n",
        "        name = request.form['name']\n",
        "        return f\"Hello {name}!\"\n",
        "    return render_template('form.html')\n",
        "\n",
        "if __name__ == '__main__':\n",
        "    app.run(debug=True)"
      ],
      "metadata": {
        "id": "sBF0ADXCxY2e"
      },
      "execution_count": null,
      "outputs": []
    },
    {
      "cell_type": "code",
      "source": [
        "#7. How can you validate form data in Flask?\n",
        "\n",
        "from flask import Flask, request, flash, redirect, url_for\n",
        "app = Flask(__name__)\n",
        "app.secret_key = 'secret'\n",
        "\n",
        "@app.route('/login', methods=['POST'])\n",
        "def login():\n",
        "    username = request.form['username']\n",
        "    if not username:\n",
        "        flash('Username is required!')\n",
        "        return redirect(url_for('login'))\n",
        "    return 'Login successful'\n",
        "\n",
        "if __name__ == '__main__':\n",
        "    app.run(debug=True)\n"
      ],
      "metadata": {
        "id": "03kfzIKkxaq-"
      },
      "execution_count": null,
      "outputs": []
    },
    {
      "cell_type": "code",
      "source": [
        "#8. How do you manage sessions in Flask?\n",
        "\n",
        "from flask import Flask, session\n",
        "app = Flask(__name__)\n",
        "app.secret_key = 'secret'\n",
        "\n",
        "@app.route('/set_user')\n",
        "def set_user():\n",
        "    session['user'] = 'John'\n",
        "    return 'User set'\n",
        "\n",
        "@app.route('/get_user')\n",
        "def get_user():\n",
        "    return f'Logged in as {session.get(\"user\", \"Guest\")}'\n",
        "\n",
        "if __name__ == '__main__':\n",
        "    app.run(debug=True)"
      ],
      "metadata": {
        "id": "EBZ7X8rYxmz7"
      },
      "execution_count": null,
      "outputs": []
    },
    {
      "cell_type": "code",
      "source": [
        "#9. How do you redirect to a different route in Flask?\n",
        "\n",
        "from flask import Flask, redirect, url_for\n",
        "app = Flask(__name__)\n",
        "\n",
        "@app.route('/redirect_home')\n",
        "def redirect_home():\n",
        "    return redirect(url_for('home'))\n",
        "\n",
        "@app.route('/home')\n",
        "def home():\n",
        "    return 'This is the home page.'\n",
        "\n",
        "if __name__ == '__main__':\n",
        "    app.run(debug=True)\n"
      ],
      "metadata": {
        "id": "XNEauqXfxubz"
      },
      "execution_count": null,
      "outputs": []
    },
    {
      "cell_type": "code",
      "source": [
        "#10. How do you handle errors in Flask (e.g., 404)?\n",
        "\n",
        "from flask import Flask\n",
        "app = Flask(__name__)\n",
        "\n",
        "@app.errorhandler(404)\n",
        "def page_not_found(e):\n",
        "    return 'Page not found', 404\n",
        "\n",
        "@app.route('/')\n",
        "def home():\n",
        "    return 'Welcome to the home page.'\n",
        "\n",
        "if __name__ == '__main__':\n",
        "    app.run(debug=True)\n"
      ],
      "metadata": {
        "id": "hqSXYu-ryMLk"
      },
      "execution_count": null,
      "outputs": []
    },
    {
      "cell_type": "code",
      "source": [
        "#11. How do you structure a Flask app using Blueprints?\n",
        "\n",
        "from flask import Flask, Blueprint\n",
        "app = Flask(__name__)\n",
        "\n",
        "bp = Blueprint('home', __name__)\n",
        "\n",
        "@bp.route('/')\n",
        "def index():\n",
        "    return 'Home Page'\n",
        "\n",
        "app.register_blueprint(bp)\n",
        "\n",
        "if __name__ == '__main__':\n",
        "    app.run(debug=True)"
      ],
      "metadata": {
        "id": "nGEVR_iUyNjp"
      },
      "execution_count": null,
      "outputs": []
    },
    {
      "cell_type": "code",
      "source": [
        "#12. How do you define a custom Jinja filter in Flask?\n",
        "\n",
        "from flask import Flask\n",
        "app = Flask(__name__)\n",
        "\n",
        "@app.template_filter('reverse')\n",
        "def reverse_filter(s):\n",
        "    return s[::-1]\n",
        "\n",
        "@app.route('/')\n",
        "def home():\n",
        "    return render_template('home.html', name='Flask')\n",
        "\n",
        "if __name__ == '__main__':\n",
        "    app.run(debug=True)"
      ],
      "metadata": {
        "id": "5Le4_UaSyUCs"
      },
      "execution_count": null,
      "outputs": []
    },
    {
      "cell_type": "code",
      "source": [
        "#13. HOW can you redirect with query parameters in Flask?\n",
        "\n",
        "from flask import Flask, redirect, url_for\n",
        "app = Flask(__name__)\n",
        "\n",
        "@app.route('/redirect_with_query')\n",
        "def redirect_with_query():\n",
        "    return redirect(url_for('home', username='John'))\n",
        "\n",
        "@app.route('/home')\n",
        "def home():\n",
        "    return f'Welcome, {request.args.get(\"username\")}'\n",
        "\n",
        "if __name__ == '__main__':\n",
        "    app.run(debug=True)"
      ],
      "metadata": {
        "id": "F0UhuZNYyiCF"
      },
      "execution_count": null,
      "outputs": []
    },
    {
      "cell_type": "code",
      "source": [
        "#14. How do you return JSON responses in Flask?\n",
        "\n",
        "from flask import Flask, jsonify\n",
        "app = Flask(__name__)\n",
        "\n",
        "@app.route('/data')\n",
        "def data():\n",
        "    return jsonify({\"name\": \"Flask\", \"version\": \"2.0\"})\n",
        "\n",
        "if __name__ == '__main__':\n",
        "    app.run(debug=True)\n"
      ],
      "metadata": {
        "id": "Ycf8CGbVyprq"
      },
      "execution_count": null,
      "outputs": []
    },
    {
      "cell_type": "code",
      "source": [
        "#15. How do you capture URL parameters in Flask?\n",
        "\n",
        "from flask import Flask\n",
        "app = Flask(__name__)\n",
        "\n",
        "@app.route('/user/')\n",
        "def user(username):\n",
        "    return f\"Hello {username}!\"\n",
        "\n",
        "if __name__ == '__main__':\n",
        "    app.run(debug=True)\n"
      ],
      "metadata": {
        "id": "GG_CIlGPyueL"
      },
      "execution_count": null,
      "outputs": []
    }
  ]
}