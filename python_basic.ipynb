{
  "nbformat": 4,
  "nbformat_minor": 0,
  "metadata": {
    "colab": {
      "provenance": []
    },
    "kernelspec": {
      "name": "python3",
      "display_name": "Python 3"
    },
    "language_info": {
      "name": "python"
    }
  },
  "cells": [
    {
      "cell_type": "markdown",
      "source": [
        "#**Python** **basics** **theory questions answers.**"
      ],
      "metadata": {
        "id": "gBp9-6Orjyoy"
      }
    },
    {
      "cell_type": "markdown",
      "source": [
        "# 1.what is python and why it is populer?\n",
        "  -Python is a high-level, interpreted programming language developed by Guido van Rossum and released in 1991.\n",
        "\n",
        "It is used for various purposes such as web development, data analysis, artificial intelligence, machine learning, automation, and more.\n",
        "\n",
        "### Why Python is Popular:\n",
        "1. *Simple Syntax:* Easy to read and write, even for beginners.\n",
        "2. *Free and Open Source:* Anyone can use and contribute to it.\n",
        "3. *Large Library Support:* Built-in modules and external packages for almost everything.\n",
        "4. *Community Support:* Millions of users, tutorials, and forums.\n",
        "5. *Versatile Usage:* From web apps to AI — Python does it all.\n",
        "\n",
        "Because of these reasons, Python is one of the most widely used and loved programming languages today.\n",
        "\n",
        "\n"
      ],
      "metadata": {
        "id": "fyuUnpESkAJP"
      }
    },
    {
      "cell_type": "markdown",
      "source": [
        "#2. What is an interpreter in Python?\n",
        "  -An interpreter in Python is a program that reads and executes Python code one line at a time. Instead of converting the entire program into machine code at once, the interpreter translates each statement into instructions that the computer can understand and runs it immediately. This allows Python to be an interpreted language, making it easier to test and debug code quickly. The interpreter also helps Python run on different platforms without needing to change the code.\n",
        "  \n",
        "\n",
        "\n"
      ],
      "metadata": {
        "id": "40XZg5JGnkJ0"
      }
    },
    {
      "cell_type": "markdown",
      "source": [
        "# 3. What are pre-defined keywords in Python?\n",
        "  -Predefined keywords in Python are reserved words that have special meanings and purposes in the language. You cannot use them as variable names, function names, or identifiers.\n"
      ],
      "metadata": {
        "id": "UZNi3x__pmJy"
      }
    },
    {
      "cell_type": "markdown",
      "source": [
        "#4.Can keywords be used as variable names?\n",
        " -No, keywords cannot be used as variable names in Python. Keywords are reserved words that have special meaning in the language, such as if, while, def, and class. Using them as variable names will result in a syntax error because Python uses these words to define the structure and rules of the code.\n"
      ],
      "metadata": {
        "id": "mMJMYG6gqY0P"
      }
    },
    {
      "cell_type": "markdown",
      "source": [
        "#5.What is mutability in Python?\n",
        "- In Python, mutability refers to whether an object can be changed after it is created.\n",
        "\n",
        "Mutable objects can be modified in place. Examples include list, dict, and set.\n",
        "\n",
        "Immutable objects cannot be changed after creation. Examples include int, str, tuple, and bool.\n",
        "\n",
        "\n",
        "For example, if you change an element in a list, the list itself gets updated. But if you try to modify a string, a new string is created instead, because strings are immutable.\n",
        "\n",
        "Understanding mutability is important for managing memory, avoiding bugs, and writing efficient code."
      ],
      "metadata": {
        "id": "UlmKNX7jraAH"
      }
    },
    {
      "cell_type": "markdown",
      "source": [
        "#6.Why are lists mutable, but tuples are immutable?\n",
        "  -Lists are mutable because they are designed to store a collection of items that may need to change over time—like adding, removing, or modifying elements. This makes them flexible and suitable for dynamic data.\n",
        "\n",
        "Tuples, on the other hand, are immutable by design. They are used to store fixed collections of items where changes are not expected. This immutability makes tuples faster, more memory-efficient, and safe to use as keys in dictionaries or elements in sets.\n",
        "\n",
        "In short, lists are mutable for flexibility, while tuples are immutable for reliability and performance.\n"
      ],
      "metadata": {
        "id": "5nKUCh-vtU9V"
      }
    },
    {
      "cell_type": "markdown",
      "source": [
        "#7. What is the difference between \"==\" and \"is\" operators in Python?\n",
        "-The difference between == and is in Python is that == is used to compare the values of two variables, whether they are the same or not. On the other hand, is checks whether both variables point to the same memory location or object. So, even if the values are equal, is might still return false if they are not the exact same object.\n",
        "\n"
      ],
      "metadata": {
        "id": "jZVDKxy9OMey"
      }
    },
    {
      "cell_type": "markdown",
      "source": [
        "#8. What are logical operators in Python?\n",
        "-Logical operators in Python are used to perform logical operations on boolean values (True or False). They help in making decisions in programs by combining multiple conditions.\n",
        "\n",
        "Python has three logical operators:\n",
        "\n",
        "1. and – Returns True only if both conditions are true.\n",
        "\n",
        "\n",
        "2. or – Returns True if at least one of the conditions is true.\n",
        "\n",
        "\n",
        "3. not – Reverses the result; returns True if the condition is false.\n",
        "\n"
      ],
      "metadata": {
        "id": "GsYl5ITpn06k"
      }
    },
    {
      "cell_type": "markdown",
      "source": [
        "#9.What is type casting in Python?\n",
        "--Type casting is the process of converting a variable from one data type to another. It helps us change data types so that we can use values in the correct format for different operations.\n",
        "\n",
        "For example, if you have a number stored as a string and want to do math with it, you need to convert it to an integer or float.\n",
        "\n",
        "Common Type Casting Functions:\n",
        "\n",
        "int() — Converts a value to an integer.\n",
        "\n",
        "float() — Converts a value to a floating-point number (decimal).\n",
        "\n",
        "str() — Converts a value to a string.\n",
        "\n",
        "bool() — Converts a value to a boolean (True or False).\n",
        "\n",
        "\n",
        "\n",
        "\n"
      ],
      "metadata": {
        "id": "7JXy5OBBtEoZ"
      }
    },
    {
      "cell_type": "markdown",
      "source": [
        "#10. What is the difference between implicit and explicit type casting?\n",
        "--Implicit and explicit type casting are two ways of converting data types in Python.\n",
        "\n",
        "1. Implicit type casting is performed by Python automatically during execution. It usually occurs when mixing different types in an expression, and Python converts the value to a compatible type without losing information.\n",
        "\n",
        "2. Explicit type casting is done by the programmer using functions like int(), float(), or str(). It is used when a specific type conversion is required, and the programmer decides how and when to do it.\n",
        "\n",
        "\n",
        "The key difference is that implicit casting is done by Python on its own, while explicit casting requires direct instruction from the programmer.v\n"
      ],
      "metadata": {
        "id": "p3bGpD0BqhOQ"
      }
    },
    {
      "cell_type": "markdown",
      "source": [
        "#11.What is the purpose of conditional statements in Python?\n",
        "--Conditional statements in Python are used to make decisions in a program. They allow the program to choose different actions based on different conditions. This helps in controlling the flow of the program.\n",
        "\n",
        "With conditional statements, a program can check if a condition is True or False, and then execute a certain block of code accordingly.\n",
        "\n",
        "Main types of conditional statements:\n",
        "\n",
        "if – checks a condition and runs the code if it’s true.\n",
        "\n",
        "elif – checks another condition if the previous if was false.\n",
        "\n",
        "else – runs code if none of the above conditions are true.\n",
        "\n"
      ],
      "metadata": {
        "id": "wYqQBKwcuNVM"
      }
    },
    {
      "cell_type": "markdown",
      "source": [
        "#12. How does the elif statement work?\n",
        "-The elif statement stands for \"else if\". It is used to check multiple conditions after an initial if statement. If the if condition is False, Python will check the elif condition. If the elif condition is True, that block of code will run.\n",
        "\n",
        "You can use multiple elif statements to check different possibilities.\n",
        "\n",
        "How it works:\n",
        "\n",
        "1. Python checks the if condition.\n",
        "\n",
        "\n",
        "2. If it’s False, it checks the first elif condition.\n",
        "\n",
        "\n",
        "3. If that’s False too, it checks the next elif, and so on.\n",
        "\n",
        "\n",
        "4. If none of the if or elif conditions are True, the else block (if present) runs\n",
        "\n"
      ],
      "metadata": {
        "id": "MGGUlf7EvgP6"
      }
    },
    {
      "cell_type": "markdown",
      "source": [
        "#13. What is the difference between for and while loops?\n",
        "-In Python, both for and while loops are used to repeat a block of code, but they are used in different situations.\n",
        "\n",
        "A for loop is used when the number of repetitions is known in advance. It is typically used to loop through a sequence, such as a list, string, or a range of numbers.\n",
        "\n",
        "A while loop is used when the number of repetitions is not known beforehand. It keeps running as long as a given condition remains true.\n",
        "\n",
        "In summary, use a for loop when you know how many times to repeat, and use a while loop when the repetition depends on a condition being true.\n",
        "\n"
      ],
      "metadata": {
        "id": "ARu3XXQrwZmS"
      }
    },
    {
      "cell_type": "markdown",
      "source": [
        "#14.Describe a scenario where a while loop is more suitable than a for loop.\n",
        "-A while loop is more suitable when the number of repetitions is not known in advance and depends on a condition being true. For example, imagine a program that keeps asking the user to enter a correct password. Since we don’t know how many times the user might enter it wrong, we can’t set a fixed number of repetitions. In this case, a while loop is ideal because it will continue running until the user enters the correct password. This kind of situation, where the loop depends on user input or some changing condition, is better handled by a while loop rather than a for loop.\n"
      ],
      "metadata": {
        "id": "OPqajVECyYwf"
      }
    },
    {
      "cell_type": "markdown",
      "source": [
        "#**Python basics practical question answers.**\n",
        "\n"
      ],
      "metadata": {
        "id": "csyUm6t30jwD"
      }
    },
    {
      "cell_type": "code",
      "source": [
        "#1.Write a python program to print 'Hello world!'\n",
        "print(\"Hello, World!\")"
      ],
      "metadata": {
        "colab": {
          "base_uri": "https://localhost:8080/"
        },
        "id": "KJ_PTVuuPfTL",
        "outputId": "d2e608f9-3c20-479c-c75e-040bfc0a565a"
      },
      "execution_count": null,
      "outputs": [
        {
          "output_type": "stream",
          "name": "stdout",
          "text": [
            "Hello, World!\n"
          ]
        }
      ]
    },
    {
      "cell_type": "code",
      "source": [
        "#2.Write a python that displays your name and age.\n",
        "print(\"My name is muskan.\")\n",
        "print(\"I am 21 year old.\")"
      ],
      "metadata": {
        "colab": {
          "base_uri": "https://localhost:8080/"
        },
        "id": "NyQnxJRuSO8O",
        "outputId": "879f6e35-be96-485a-a269-04eeea0679d1"
      },
      "execution_count": null,
      "outputs": [
        {
          "output_type": "stream",
          "name": "stdout",
          "text": [
            "My name is muskan.\n",
            "I am 21 year old.\n"
          ]
        }
      ]
    },
    {
      "cell_type": "code",
      "source": [
        "#3.Write a code to print all the pre-defined keywords in Python using the keyword library.\n",
        "import keyword\n",
        "print(keyword.kwlist)"
      ],
      "metadata": {
        "colab": {
          "base_uri": "https://localhost:8080/"
        },
        "id": "8XH9tc9ZUe7f",
        "outputId": "7b2ddefe-db60-4a58-8f6f-7df181066eda"
      },
      "execution_count": null,
      "outputs": [
        {
          "output_type": "stream",
          "name": "stdout",
          "text": [
            "['False', 'None', 'True', 'and', 'as', 'assert', 'async', 'await', 'break', 'class', 'continue', 'def', 'del', 'elif', 'else', 'except', 'finally', 'for', 'from', 'global', 'if', 'import', 'in', 'is', 'lambda', 'nonlocal', 'not', 'or', 'pass', 'raise', 'return', 'try', 'while', 'with', 'yield']\n"
          ]
        }
      ]
    },
    {
      "cell_type": "code",
      "source": [
        "#4.Write a program that checks if a given word is a Python keyword.\n",
        "import keyword\n",
        "word = input(\"Enter a word: \")\n",
        "if keyword.iskeyword(word):\n",
        "    print(f\"{word} is a Python keyword.\")\n",
        "else:\n",
        "    print(f\"{word} is not a Python keyword.\")"
      ],
      "metadata": {
        "colab": {
          "base_uri": "https://localhost:8080/"
        },
        "id": "nMz85QxzYWpA",
        "outputId": "d1a8d8c0-3b85-48ec-f13e-2e6109c6941e"
      },
      "execution_count": null,
      "outputs": [
        {
          "output_type": "stream",
          "name": "stdout",
          "text": [
            "Enter a word: while\n",
            "while is a Python keyword.\n"
          ]
        }
      ]
    },
    {
      "cell_type": "code",
      "source": [
        "#5.Create a list and tuple in Python,and demonstrate how attempting to change an element works diffenrently for each.\n",
        "my_list = [10, 20, 30]\n",
        "my_tuple = (10, 20, 30)\n",
        "print(\"Original list:\", my_list)\n",
        "my_list[1] = 99\n",
        "print(\"Modified list:\", my_list)\n",
        "print(\"Original tuple:\", my_tuple)\n",
        "try:\n",
        "    my_tuple[1] = 99\n",
        "except TypeError as e:\n",
        "    print(\"Error when modifying tuple:\", e)\n",
        "\n"
      ],
      "metadata": {
        "colab": {
          "base_uri": "https://localhost:8080/"
        },
        "id": "h7lw9hP-V_qT",
        "outputId": "915e0dae-cf92-4080-ac63-b21395a1dcce"
      },
      "execution_count": 9,
      "outputs": [
        {
          "output_type": "stream",
          "name": "stdout",
          "text": [
            "Original list: [10, 20, 30]\n",
            "Modified list: [10, 99, 30]\n",
            "Original tuple: (10, 20, 30)\n",
            "Error when modifying tuple: 'tuple' object does not support item assignment\n"
          ]
        }
      ]
    },
    {
      "cell_type": "code",
      "source": [
        "#6.Write a function to demonstrate the behavior of mutable and immutable arguments.\n",
        "def modify_list(my_list):\n",
        "    my_list.append(4)\n",
        "my_list = [1, 2, 3]\n",
        "modify_list(my_list)\n",
        "print(my_list)"
      ],
      "metadata": {
        "colab": {
          "base_uri": "https://localhost:8080/"
        },
        "id": "008Dyw6VhpgE",
        "outputId": "fe719e67-155f-4bb6-d876-0e4d244f9576"
      },
      "execution_count": 10,
      "outputs": [
        {
          "output_type": "stream",
          "name": "stdout",
          "text": [
            "[1, 2, 3, 4]\n"
          ]
        }
      ]
    },
    {
      "cell_type": "code",
      "source": [
        "#7.Write a program that performs basic arithmetic operations on two user-input numbers.\n",
        "# Program to perform basic arithmetic operations\n",
        "\n",
        "#Taking input from the user\n",
        "num1 = float(input(\"Enter first number: \"))\n",
        "num2 = float(input(\"Enter second number: \"))\n",
        "\n",
        "#Performing operations\n",
        "addition = num1 + num2\n",
        "subtraction = num1 - num2\n",
        "multiplication = num1 * num2\n",
        "\n",
        "#To avoid division by zero error\n",
        "if num2 != 0:\n",
        "    division = num1 / num2\n",
        "else:\n",
        "    division = \"Undefined (cannot divide by zero)\"\n",
        "\n",
        "#Displaying results\n",
        "print(\"Addition:\", addition)\n",
        "print(\"Subtraction:\", subtraction)\n",
        "print(\"Multiplication:\", multiplication)\n",
        "print(\"Division:\",division)"
      ],
      "metadata": {
        "colab": {
          "base_uri": "https://localhost:8080/"
        },
        "id": "jwc0uEDZh8AJ",
        "outputId": "d8f37cc7-56d3-422b-ddc1-0adf2a67d776"
      },
      "execution_count": 13,
      "outputs": [
        {
          "output_type": "stream",
          "name": "stdout",
          "text": [
            "Enter first number: 21\n",
            "Enter second number: 13\n",
            "Addition: 34.0\n",
            "Subtraction: 8.0\n",
            "Multiplication: 273.0\n",
            "Division: 1.6153846153846154\n"
          ]
        }
      ]
    },
    {
      "cell_type": "code",
      "source": [
        "#8.Write a program to demonstrate the use of logical operators.\n",
        "a = True\n",
        "b = False\n",
        "#Using AND operator\n",
        "print(\"Using AND operator:\")\n",
        "print(a and b)\n",
        "#Using OR operator\n",
        "print(\"Using OR operator:\")\n",
        "print(a or b)\n",
        "#Using NOT operator\n",
        "print(\"Using NOT operator:\")\n",
        "print(not a)"
      ],
      "metadata": {
        "colab": {
          "base_uri": "https://localhost:8080/"
        },
        "id": "w8JWdCZGj-sF",
        "outputId": "7ccafa1a-6cc5-49d8-8940-55938f9ac158"
      },
      "execution_count": 14,
      "outputs": [
        {
          "output_type": "stream",
          "name": "stdout",
          "text": [
            "Using AND operator:\n",
            "False\n",
            "Using OR operator:\n",
            "True\n",
            "Using NOT operator:\n",
            "False\n"
          ]
        }
      ]
    },
    {
      "cell_type": "code",
      "source": [
        "#9.Write a Python program to convert user input from string to integer,float,and boolean types.\n",
        "s = input(\"Enter a value: \")\n",
        "\n",
        "print(\"As int:\", int(s) if s.isdigit() else \"Invalid\")\n",
        "print(\"As float:\", float(s) if s.replace('.', '', 1).isdigit() else \"Invalid\")\n",
        "print(\"As bool:\", bool(s))\n"
      ],
      "metadata": {
        "colab": {
          "base_uri": "https://localhost:8080/"
        },
        "id": "VsDkCjZ8l1BI",
        "outputId": "7de401e3-6113-466f-9bf5-830d6b824076"
      },
      "execution_count": 15,
      "outputs": [
        {
          "output_type": "stream",
          "name": "stdout",
          "text": [
            "Enter a value: 13\n",
            "Integer: 13\n",
            "Float: 13.0\n",
            "Boolean: True\n"
          ]
        }
      ]
    },
    {
      "cell_type": "code",
      "source": [
        "#10.Write code to demonstrate type casting with list elements.\n",
        "str_list = [\"1\", \"2\", \"3\", \"4.5\"]\n",
        "\n",
        "# Convert list elements to integer, float, and boolean\n",
        "int_list = [int(x) if x.isdigit() else 0 for x in str_list]\n",
        "float_list = [float(x) if '.' in x else int(x) for x in str_list]\n",
        "bool_list = [bool(x) for x in str_list]\n",
        "\n",
        "print(\"Original list:\", str_list)\n",
        "print(\"As integers:\", int_list)\n",
        "print(\"As floats:\", float_list)\n",
        "print(\"As booleans:\", bool_list)\n"
      ],
      "metadata": {
        "colab": {
          "base_uri": "https://localhost:8080/"
        },
        "id": "flAe8dzoppeJ",
        "outputId": "457651cb-1bc4-4c30-85b5-01fbdc1e5668"
      },
      "execution_count": 17,
      "outputs": [
        {
          "output_type": "stream",
          "name": "stdout",
          "text": [
            "Original list: ['1', '2', '3', '4.5']\n",
            "As integers: [1, 2, 3, 0]\n",
            "As floats: [1, 2, 3, 4.5]\n",
            "As booleans: [True, True, True, True]\n"
          ]
        }
      ]
    },
    {
      "cell_type": "code",
      "source": [
        "#11.Write a program that checks if a numbers is positive, negative,or zero.\n",
        "number = float(input(\"Enter a number: \"))\n",
        "\n",
        "if number > 0:\n",
        "    print(\"The number is positive.\")\n",
        "elif number < 0:\n",
        "    print(\"The number is negative.\")\n",
        "else:\n",
        "    print(\"The number is zero.\")"
      ],
      "metadata": {
        "colab": {
          "base_uri": "https://localhost:8080/"
        },
        "id": "IUOGjiuxrGqu",
        "outputId": "f11b8ffe-2997-4c8b-84b8-9cbf8b682833"
      },
      "execution_count": 18,
      "outputs": [
        {
          "output_type": "stream",
          "name": "stdout",
          "text": [
            "Enter a number: 13\n",
            "The number is positive.\n"
          ]
        }
      ]
    },
    {
      "cell_type": "code",
      "source": [
        "#12.Write a for loop to print numbers from 1 to 10.\n",
        "for i in range(1, 11):\n",
        "    print(i, end=\" \")"
      ],
      "metadata": {
        "colab": {
          "base_uri": "https://localhost:8080/"
        },
        "id": "6N5Pt5Ylsi-q",
        "outputId": "cf5ee3b5-393c-46d6-c9d7-48ed7ab963bc"
      },
      "execution_count": 20,
      "outputs": [
        {
          "output_type": "stream",
          "name": "stdout",
          "text": [
            "1 2 3 4 5 6 7 8 9 10 "
          ]
        }
      ]
    },
    {
      "cell_type": "code",
      "source": [
        "#13.Write a Python program to find the sum of all even numbers between 1 and 50.\n",
        "sum_even = 0\n",
        "for num in range(2, 51, 2):\n",
        "    sum_even += num\n",
        "print(\"The sum of even numbers from 1 to 50 is:\", sum_even)"
      ],
      "metadata": {
        "colab": {
          "base_uri": "https://localhost:8080/"
        },
        "id": "NH0jkAzytD1_",
        "outputId": "4a6d523b-25e3-44aa-ee8c-37a0362c59e2"
      },
      "execution_count": 21,
      "outputs": [
        {
          "output_type": "stream",
          "name": "stdout",
          "text": [
            "The sum of even numbers from 1 to 50 is: 650\n"
          ]
        }
      ]
    },
    {
      "cell_type": "code",
      "source": [
        "#14.Write a program to reverse a string using a while loop.\n",
        "string = input(\"Enter a string: \")\n",
        "reversed_string = \"\"\n",
        "index = len(string) - 1\n",
        "while index >= 0:\n",
        "    reversed_string += string[index]\n",
        "    index -= 1\n",
        "print(\"Reversed string:\", reversed_string)"
      ],
      "metadata": {
        "colab": {
          "base_uri": "https://localhost:8080/"
        },
        "id": "0i_5101FtfDW",
        "outputId": "5bd13155-fa57-49da-f9db-992466ee960d"
      },
      "execution_count": 22,
      "outputs": [
        {
          "output_type": "stream",
          "name": "stdout",
          "text": [
            "Enter a string: muskan\n",
            "Reversed string: naksum\n"
          ]
        }
      ]
    },
    {
      "cell_type": "code",
      "source": [
        "#15.Write a Python program to calculate the factorial of a number provided by the user using using a while loop.\n",
        "number = int(input(\"Enter a number: \"))\n",
        "factorial = 1\n",
        "current = 1\n",
        "while current <= number:\n",
        "    factorial *= current\n",
        "    current += 1\n",
        "print(f\"The factorial of {number} is {factorial}\")"
      ],
      "metadata": {
        "colab": {
          "base_uri": "https://localhost:8080/"
        },
        "id": "450k2F4RuILw",
        "outputId": "8883bde9-4349-425d-b2b7-58b19b2b31d9"
      },
      "execution_count": 23,
      "outputs": [
        {
          "output_type": "stream",
          "name": "stdout",
          "text": [
            "Enter a number: 6\n",
            "The factorial of 6 is 720\n"
          ]
        }
      ]
    }
  ]
}