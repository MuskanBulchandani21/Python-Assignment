{
  "nbformat": 4,
  "nbformat_minor": 0,
  "metadata": {
    "colab": {
      "provenance": []
    },
    "kernelspec": {
      "name": "python3",
      "display_name": "Python 3"
    },
    "language_info": {
      "name": "python"
    }
  },
  "cells": [
    {
      "cell_type": "markdown",
      "source": [
        "#**OOPs Theory Answers.**\n"
      ],
      "metadata": {
        "id": "-cmprPuz13yR"
      }
    },
    {
      "cell_type": "markdown",
      "source": [
        "#1.What is Object-Oriented Programming (OOP)+?\n",
        "-Object-Oriented Programming (OOP) is a programming paradigm based on the concept of “objects”, which can contain data (called attributes or properties) and code (called methods or functions) that operates on the data.\n",
        "\n",
        "- 4 Main Pillars of OOP:\n",
        "Encapsulation\n",
        "Bundling the data (attributes) and methods (functions) that operate on the data into a single unit (class), and restricting access to some of the object's components.\n",
        "\n",
        "Abstraction\n",
        "Hiding complex details and showing only the essential features of an object. Helps in reducing programming complexity.\n",
        "\n",
        "Inheritance\n",
        "Allows a class (child/derived class) to inherit the attributes and methods of another class (parent/base class). Promotes code reusability.\n",
        "\n",
        "Polymorphism\n",
        "Allows methods to have different meanings or behaviors depending on the object that is calling them. Same method name, but different implementations."
      ],
      "metadata": {
        "id": "DZRBJscT2gbY"
      }
    },
    {
      "cell_type": "markdown",
      "source": [
        "#2.What is a class in OOP+?\n",
        "- A class is like a blueprint or template for creating objects.\n",
        "\n",
        "It defines the attributes (data) and methods (functions) that the objects created from the class will have.\n"
      ],
      "metadata": {
        "id": "HKCJLbFg3F7a"
      }
    },
    {
      "cell_type": "markdown",
      "source": [
        "#3.What is an object in OOP+?\n",
        "- An object is a real-world entity created from a class. It is an instance of a class that holds data (attributes) and can perform actions (methods) defined in the class."
      ],
      "metadata": {
        "id": "TSCyDJsO3ipq"
      }
    },
    {
      "cell_type": "markdown",
      "source": [
        "#4.What is the difference between abstraction and encapsulation+?\n",
        "- Abstraction and encapsulation are both key concepts in object-oriented programming, but they serve different purposes.\n",
        "\n",
        "Abstraction means hiding the internal details and showing only the essential features. It helps to reduce complexity by allowing you to focus on what an object does instead of how it does it. For example, when you use a mobile phone, you can make a call without knowing how the phone internally connects the call. In programming, abstraction is done using abstract classes or interfaces, where only method names are defined but not their actual implementation.\n",
        "\n",
        "On the other hand, encapsulation means wrapping data (variables) and the code (methods) that works on the data into a single unit, like a class. It also restricts direct access to some parts of the object, which helps protect the data. For instance, in a class, you can make a variable private and provide getter and setter methods to access or update it. This way, you're controlling how that variable is accessed or modified.\n",
        "\n",
        "In short, abstraction hides complexity and shows only the necessary parts, while encapsulation hides the internal data and protects it from being changed accidentally or wrongly"
      ],
      "metadata": {
        "id": "mRYGMlNQ37ey"
      }
    },
    {
      "cell_type": "markdown",
      "source": [
        "#5.What are dunder methods in Python+?\n",
        "- Dunder methods in Python (also called magic methods or special methods) are the methods that have double underscores (__) before and after their names, like __init__, __str__, __len__, etc.\n",
        "\n",
        "The word \"dunder\" stands for “double underscore”.\n",
        "\n",
        "- What are they used for?\n",
        "\n",
        "Dunder methods are used to define how objects of a class behave with built-in operations, such as printing, adding, comparing, or indexing.\n",
        "\n",
        "They let you customize the behavior of your objects for operators and built-in functions.\n",
        "\n"
      ],
      "metadata": {
        "id": "CG0XdKRq4nEj"
      }
    },
    {
      "cell_type": "markdown",
      "source": [
        "#6.Explain the concept of inheritance in OOPH.\n",
        "- Inheritance in Object-Oriented Programming (OOP) is a concept where a class (called child or subclass) can inherit properties and behaviors (methods and attributes) from another class (called parent or superclass).\n",
        "\n",
        "This means you don’t have to rewrite the same code again and again—you can reuse the code written in the parent class.\n",
        "\n",
        "- Why use inheritance?\n",
        "\n",
        "It helps in:\n",
        "\n",
        "Code reuse: Write common functionality once in the parent class.\n",
        "\n",
        "Improved structure: Helps organize your code better.\n",
        "\n",
        "Easy updates: Changes in parent class automatically apply to child classes if they don't override the behavior.\n",
        "\n"
      ],
      "metadata": {
        "id": "7B4-OQRh5DIj"
      }
    },
    {
      "cell_type": "markdown",
      "source": [
        "#7.What is polymorphism in OOP+.\n",
        "- Polymorphism in Object-Oriented Programming (OOP) means \"many forms\".\n",
        "\n",
        "It allows objects of different classes to be treated as if they are of the same class, as long as they follow the same interface or structure. The idea is that the same method name can behave differently depending on the object that calls it.\n"
      ],
      "metadata": {
        "id": "6_BBN0585jK9"
      }
    },
    {
      "cell_type": "markdown",
      "source": [
        "#8.How is encapsulation achieved in Python+?\n",
        "- Encapsulation in Python is achieved by restricting direct access to the internal data of a class and controlling it through methods. This helps protect data and makes the code more secure and organized.\n",
        "\n",
        "- How is it done?\n",
        "Python uses access modifiers and getter/setter methods to achieve encapsulation:\n",
        "\n",
        "1. Public (name)\n",
        "Accessible from anywhere.\n",
        "\n",
        "2. Protected (_name)\n",
        "A convention that means “don’t access this directly”—still accessible, but meant to be used within the class or its subclasses.\n",
        "\n",
        "3. Private (__name)\n",
        "Name-mangled to prevent direct access. Used for strict encapsulation\n"
      ],
      "metadata": {
        "id": "rIMsqXD957Ot"
      }
    },
    {
      "cell_type": "markdown",
      "source": [
        "#9.What is a constructor in Python+?\n",
        "- A constructor in Python is a special method used to initialize a newly created object of a class. It is automatically called when you create an object.\n",
        "\n",
        "In Python, the constructor method is always named __init__().\n",
        "\n",
        "- Purpose of a constructor:\n",
        "\n",
        "To set initial values for the object’s attributes.\n",
        "\n",
        "To perform setup tasks when the object is created."
      ],
      "metadata": {
        "id": "z6ruaLbG9pW4"
      }
    },
    {
      "cell_type": "markdown",
      "source": [
        "#10.What are class and static methods in Python+?\n",
        "- In Python, class methods and static methods are special types of methods inside a class that behave differently from regular instance methods."
      ],
      "metadata": {
        "id": "tLq0EWy3-EBy"
      }
    },
    {
      "cell_type": "markdown",
      "source": [
        "#11.What is method overloading in Python+?\n",
        "ChatGPT said:\n",
        "Method Overloading in Python:\n",
        "Method overloading means having multiple methods with the same name but with different number or types of arguments.\n",
        "\n",
        "In many languages like Java or C++, this is done directly by defining multiple methods with the same name but different parameters.\n",
        "\n",
        "- But in Python?\n",
        "\n",
        "Python does not support true method overloading like other languages. If you define multiple methods with the same name, only the last one will be used.\n",
        "\n",
        "However, you can achieve method overloading-like behavior by using:\n",
        "\n",
        "default arguments\n",
        "\n",
        "variable-length arguments (*args, **kwargs)\n",
        "\n",
        "type checking inside the method.\n"
      ],
      "metadata": {
        "id": "M0yjAO-J-dv5"
      }
    },
    {
      "cell_type": "markdown",
      "source": [
        "#12.What is method overriding in OOP+?\n",
        "- Method overriding is a feature in object-oriented programming where a child class provides its own version of a method that is already defined in its parent class.\n",
        "\n",
        "The method in the child class has the same name, parameters, and return type as the one in the parent class, but the behavior is different.\n",
        "\n",
        "- Why use method overriding?\n",
        "\n",
        "To customize or extend the behavior of a method inherited from the parent class."
      ],
      "metadata": {
        "id": "NiqiAwUy-5ZH"
      }
    },
    {
      "cell_type": "markdown",
      "source": [
        "#13.What is a property decorator in Python+?\n",
        "- What is a property decorator in Python?\n",
        "\n",
        "The property decorator is used to turn a method into a “getter”—so you can access it like an attribute, without using parentheses.\n",
        "\n",
        "It allows you to:\n",
        "\n",
        "Access a method like a variable\n",
        "\n",
        "Control read-only or computed attributes\n",
        "\n",
        "Use encapsulation while keeping syntax clean."
      ],
      "metadata": {
        "id": "JMNsQs0O_VPi"
      }
    },
    {
      "cell_type": "markdown",
      "source": [
        "#14.Why is polymorphism important in OOP+?\n",
        "- Polymorphism is important in Object-Oriented Programming because it allows the same interface (like a method name) to be used for different types of objects, each providing its own implementation. This makes your code flexible, reusable, and easier to maintain.\n",
        "\n",
        "- Why is it so useful?\n",
        "\n",
        "-Code Reusability\n",
        "\n",
        "You can write a single function or method that works with different object types, avoiding duplicate code.\n",
        "\n",
        "--Extensibility\n",
        "\n",
        "You can add new classes without changing the existing code, as long as they follow the same method structure.\n",
        "\n",
        "-Clean and Readable Code\n",
        "\n",
        "\n",
        "Your code focuses on what needs to be done, not how each type does it. That \"how\" is handled inside each class.\n",
        "\n",
        "-Supports Dynamic Behavior\n",
        "\n",
        "At runtime, the right method is chosen based on the object calling it—this is called runtime polymorphism.\n",
        "\n"
      ],
      "metadata": {
        "id": "bKFMBk17A6oY"
      }
    },
    {
      "cell_type": "markdown",
      "source": [
        "#15.What is an abstract class in Python+?\n",
        "- An abstract class is a blueprint for other classes. It cannot be used to create objects directly and is meant to be inherited by other classes that implement its methods.\n",
        "\n",
        "In Python, abstract classes are defined using the abc (Abstract Base Class) module.\n",
        "\n",
        "- Why use an abstract class?\n",
        "\n",
        "To enforce a common structure across different subclasses\n",
        "\n",
        "To define methods that must be implemented in child classes\n",
        "\n",
        "Useful in large programs where multiple classes share a common interface\n"
      ],
      "metadata": {
        "id": "p5rOVk93BsJo"
      }
    },
    {
      "cell_type": "markdown",
      "source": [
        "#16.What are the advantages of OOP+?\n",
        "- Advantages of Object-Oriented Programming (OOP):\n",
        "Object-Oriented Programming offers several benefits that make it one of the most popular programming approaches, especially for large and complex software systems.\n",
        "\n",
        "1. Modularity\n",
        "OOP breaks the program into smaller, manageable pieces called classes and objects. This makes it easier to write, test, debug, and understand the code.\n",
        "\n",
        "2. Code Reusability\n",
        "Using inheritance, you can reuse existing code in new classes. You don’t have to rewrite the same logic again, which saves time and effort.\n",
        "\n",
        "3. Encapsulation\n",
        "OOP hides the internal details of an object and only exposes what is necessary. This improves data protection, security, and maintainability.\n",
        "\n",
        "4. Abstraction\n",
        "It lets you focus on what an object does, not how it does it. This reduces complexity and improves usability, especially for large systems.\n",
        "\n",
        "5. Polymorphism\n",
        "The same method name can work differently for different objects. This makes the code more flexible and easier to extend.\n",
        "\n",
        "6. Easier Maintenance and Upgrades\n",
        "Since code is modular and organized, it’s easier to update or fix bugs without breaking the entire program.\n",
        "\n",
        "7. Real-world Mapping\n",
        "OOP models real-world entities like Car, Employee, BankAccount, etc., making the code more intuitive and relatable.\n",
        "\n",
        "8. Scalability\n",
        "Object-oriented code can grow with your project. Adding new features or components becomes easier and cleaner.\n"
      ],
      "metadata": {
        "id": "U8KeUGpuCOR3"
      }
    },
    {
      "cell_type": "markdown",
      "source": [
        "#17.What is the difference between a class variable and an instance variable?\n",
        "-Difference Between Class Variable and Instance Variable in Python:\n",
        "In Python, both class variables and instance variables are used to store data in a class, but they behave differently in terms of scope and sharing.\n",
        "\n",
        "- Instance Variable:\n",
        "\n",
        "Belongs to a specific object (instance) of the class.\n",
        "\n",
        "Created using self.variable_name.\n",
        "\n",
        "Each object has its own copy of instance variables.\n",
        "\n",
        "Changing the value in one object doesn’t affect others.\n",
        "\n",
        "- Class Variable:\n",
        "\n",
        "Belongs to the class itself, not any one object.\n",
        "\n",
        "Shared by all instances of the class.\n",
        "\n",
        "Defined outside of any method but inside the class.\n",
        "\n",
        "If modified through the class, it affects all instances."
      ],
      "metadata": {
        "id": "5QR5M9RlEhRL"
      }
    },
    {
      "cell_type": "markdown",
      "source": [
        "#18.What is multiple inheritance in Python+?\n",
        "- What is Multiple Inheritance in Python?\n",
        "Multiple inheritance means that a child class can inherit from more than one parent class at the same time. This allows the child class to access attributes and methods from all the parent classes.\n"
      ],
      "metadata": {
        "id": "t4VD_PVkLBJD"
      }
    },
    {
      "cell_type": "markdown",
      "source": [
        "#19.Explain the purpose of ‘’__str__’ and ‘__repr__’ ‘ methods in Python.\n",
        "- Purpose of __str__() and __repr__() Methods in Python:\n",
        "Both __str__() and __repr__() are dunder (double underscore) methods used to define string representations of objects, but they serve different purposes.\n",
        "\n",
        "-__str__() → For Humans (Readable Output)\n",
        "\n",
        "- Used when you call print(object)\n",
        "\n",
        "- Meant to give a user-friendly description\n",
        "\n",
        "- Returns a string that is easy to read and understand"
      ],
      "metadata": {
        "id": "RcxB1CJ6LVqK"
      }
    },
    {
      "cell_type": "markdown",
      "source": [
        "#20.What is the significance of the ‘super()’ function in Python+?\n",
        "-  The super() function in Python is used to call methods from a parent (super) class inside a child class. It's especially useful when working with inheritance, allowing the child class to reuse and extend the functionality of the parent class without hardcoding the parent’s name.\n",
        "\n",
        "\n"
      ],
      "metadata": {
        "id": "BbNXQOAIM4dT"
      }
    },
    {
      "cell_type": "markdown",
      "source": [
        "#21.What is the significance of the __del__ method in Python+?\n",
        "- The __del__ method is a destructor in Python.\n",
        "It is called automatically when an object is about to be destroyed (i.e., garbage collected).\n",
        "\n",
        "- Purpose:\n",
        "\n",
        "To perform cleanup actions before the object is deleted.\n",
        "\n",
        "Used to release resources like closing files, network connections, or database connections.\n",
        "\n"
      ],
      "metadata": {
        "id": "Un8ilBnGNLeB"
      }
    },
    {
      "cell_type": "markdown",
      "source": [
        "#22.What is the difference between @staticmethod and @classmethod in Python+?\n",
        "- @staticmethod:\n",
        "\n",
        "A @staticmethod is a method that does not take the instance (self) or class (cls) as its first argument. It behaves like a plain function, but it's included inside the class for organizational purposes.\n",
        "\n",
        "You use a static method when the logic of the method does not depend on the instance or class—it just performs a task.\n",
        "\n",
        "- @classmethod:\n",
        "\n",
        "A @classmethod is different because it takes the class itself as the first argument, usually named cls. That means the method has access to the class’s attributes and can modify class-level state.\n",
        "\n",
        "Class methods are often used when you want to define alternative constructors or perform operations that affect the whole class, not just one object."
      ],
      "metadata": {
        "id": "a2AusYYZQwkY"
      }
    },
    {
      "cell_type": "markdown",
      "source": [
        "#23.How does polymorphism work in Python with inheritance+?\n",
        "- Polymorphism means \"many forms\". In Python, polymorphism with inheritance allows different classes to define methods with the same name, and Python will automatically choose the correct version of the method at runtime depending on the object.\n",
        "\n"
      ],
      "metadata": {
        "id": "2IUtN6O4RtCj"
      }
    },
    {
      "cell_type": "markdown",
      "source": [
        "#24.What is method chaining in Python OOP+?\n",
        "- Method chaining is a programming technique where multiple methods are called on the same object in a single line, one after another, by connecting them with dots (.).\n",
        "\n",
        "- How it works:\n",
        "In method chaining, each method returns the object itself (self), so you can call another method on that same object.\n",
        "\n",
        "\n"
      ],
      "metadata": {
        "id": "yExgcmypSDcW"
      }
    },
    {
      "cell_type": "markdown",
      "source": [
        "#25.What is the purpose of the __call__ method in Python?\n",
        "-The __call__ method allows an instance of a class to be called like a regular function.\n",
        "\n",
        "In simple terms, if a class defines a __call__ method, then you can \"call\" the object itself using parentheses, just like you’d call a function.\n",
        "\n",
        "- Purpose:\n",
        "To make objects behave like functions.\n",
        "\n",
        "Useful for creating function objects, also called callable objects.\n",
        "\n",
        "Often used in decorators, stateful functions, and machine learning models (e.g., PyTorch, TensorFlow)"
      ],
      "metadata": {
        "id": "wbYJS14HS1rH"
      }
    },
    {
      "cell_type": "markdown",
      "source": [
        "#**OOPs Practical Answers**\n"
      ],
      "metadata": {
        "id": "EE1FXr0uRxl4"
      }
    },
    {
      "cell_type": "code",
      "source": [
        "#.1. Create a parent class Animal with a method speak() that prints a generic message. Create a child class Dog that overrides the speak() method to print \"Bark!\".\n",
        "class Animal:\n",
        "    def speak(self):\n",
        "        print(\"Generic animal sound\")\n",
        "\n",
        "class Dog(Animal):\n",
        "    def speak(self):\n",
        "        print(\"Bark!\")\n",
        "        super().speak()\n",
        "\n",
        "# Create an instance of Dog and call the speak() method\n",
        "dog = Dog()\n",
        "dog.speak()\n"
      ],
      "metadata": {
        "colab": {
          "base_uri": "https://localhost:8080/"
        },
        "id": "qdH8szZGULTD",
        "outputId": "f73ede5d-9b15-4b6c-e3bb-24ba116bf8ab"
      },
      "execution_count": null,
      "outputs": [
        {
          "output_type": "stream",
          "name": "stdout",
          "text": [
            "Bark!\n",
            "Generic animal sound\n"
          ]
        }
      ]
    },
    {
      "cell_type": "code",
      "source": [
        "#2. Write a program to create an abstract class Shape with a method area(). Derive classes Circle and Rectangle from it and implement the area() method in both\n",
        "from abc import ABC, abstractmethod\n",
        "import math\n",
        "\n",
        "# Abstract class\n",
        "class Shape(ABC):\n",
        "    @abstractmethod\n",
        "    def area(self):\n",
        "        pass\n",
        "\n",
        "# Circle class\n",
        "class Circle(Shape):\n",
        "    def __init__(self, radius):\n",
        "        self.radius = radius\n",
        "\n",
        "    def area(self):\n",
        "        return math.pi * self.radius ** 2\n",
        "\n",
        "# Rectangle class\n",
        "class Rectangle(Shape):\n",
        "    def __init__(self, width, height):\n",
        "        self.width = width\n",
        "        self.height = height\n",
        "\n",
        "    def area(self):\n",
        "        return self.width * self.height\n",
        "\n",
        "# Example usage\n",
        "circle = Circle(5)\n",
        "rectangle = Rectangle(4, 6)\n",
        "\n",
        "print(\"Area of Circle:\", circle.area())\n",
        "print(\"Area of Rectangle:\", rectangle.area())"
      ],
      "metadata": {
        "colab": {
          "base_uri": "https://localhost:8080/"
        },
        "id": "SRrWuZMfUoPr",
        "outputId": "c7513115-e521-4f12-dbb1-c64aa010c429"
      },
      "execution_count": null,
      "outputs": [
        {
          "output_type": "stream",
          "name": "stdout",
          "text": [
            "Area of Circle: 78.53981633974483\n",
            "Area of Rectangle: 24\n"
          ]
        }
      ]
    },
    {
      "cell_type": "code",
      "source": [
        "# 3. Implement a multi-level inheritance scenario where a class Vehicle has an attribute type. Derive a class Car and further derive a class ElectricCar that adds a battery attribute.\n",
        "\n",
        "class Vehicle:\n",
        "    def __init__(self, vehicle_type):\n",
        "        self.vehicle_type = vehicle_type\n",
        "\n",
        "    def show_type(self):\n",
        "        print(f\"Vehicle Type: {self.vehicle_type}\")\n",
        "\n",
        "# Derived class from Vehicle\n",
        "class Car(Vehicle):\n",
        "    def __init__(self, vehicle_type, brand):\n",
        "        super().__init__(vehicle_type)\n",
        "        self.brand = brand\n",
        "\n",
        "    def show_brand(self):\n",
        "        print(f\"Car Brand: {self.brand}\")\n",
        "\n",
        "# Further derived class from Car\n",
        "class ElectricCar(Car):\n",
        "    def __init__(self, vehicle_type, brand, battery_capacity):\n",
        "        super().__init__(vehicle_type, brand)\n",
        "        self.battery_capacity = battery_capacity\n",
        "\n",
        "    def show_battery(self):\n",
        "        print(f\"Battery Capacity: {self.battery_capacity} kWh\")\n",
        "\n",
        "# Example usage\n",
        "ecar = ElectricCar(\"Four Wheeler\", \"Tesla\", 75)\n",
        "\n",
        "ecar.show_type()       # From Vehicle\n",
        "ecar.show_brand()      # From Car\n",
        "ecar.show_battery()    # From ElectricCar"
      ],
      "metadata": {
        "colab": {
          "base_uri": "https://localhost:8080/"
        },
        "id": "vxyGjGr-Woam",
        "outputId": "805fd8fc-9e5e-40a5-c870-35aeac4f2d9c"
      },
      "execution_count": null,
      "outputs": [
        {
          "output_type": "stream",
          "name": "stdout",
          "text": [
            "Vehicle Type: Four Wheeler\n",
            "Car Brand: Tesla\n",
            "Battery Capacity: 75 kWh\n"
          ]
        }
      ]
    },
    {
      "cell_type": "code",
      "source": [
        "#4.Demonstrate polymorphism by creating a base class Bird with a method fly(). Create two derived classes Sparrow and Penguin that override the fly() method.\n",
        "# Base class\n",
        "class Bird:\n",
        "    def fly(self):\n",
        "        print(\"Some birds can fly.\")\n",
        "\n",
        "# Derived class Sparrow\n",
        "class Sparrow(Bird):\n",
        "    def fly(self):\n",
        "        print(\"Sparrow flies high in the sky.\")\n",
        "\n",
        "# Derived class Penguin\n",
        "class Penguin(Bird):\n",
        "    def fly(self):\n",
        "        print(\"Penguins cannot fly, they swim.\")\n",
        "\n",
        "# Polymorphic behavior\n",
        "def bird_flight(bird):\n",
        "    bird.fly()\n",
        "\n",
        "# Create objects\n",
        "bird1 = Sparrow()\n",
        "bird2 = Penguin()\n",
        "\n",
        "# Demonstrate polymorphism\n",
        "bird_flight(bird1)\n",
        "bird_flight(bird2)"
      ],
      "metadata": {
        "colab": {
          "base_uri": "https://localhost:8080/"
        },
        "id": "fieKkgZ_XWwl",
        "outputId": "18a227b4-e635-4b9e-a8ae-bd4acb8ac20d"
      },
      "execution_count": null,
      "outputs": [
        {
          "output_type": "stream",
          "name": "stdout",
          "text": [
            "Sparrow flies high in the sky.\n",
            "Penguins cannot fly, they swim.\n"
          ]
        }
      ]
    },
    {
      "cell_type": "code",
      "source": [
        "#5. Write a program to demonstrate encapsulation by creating a class BankAccount with private attributes balance and methods to deposit, withdraw, and check balance.\n",
        "class BankAccount:\n",
        "    def __init__(self, initial_balance=0):\n",
        "        self.__balance = initial_balance  # Private attribute\n",
        "\n",
        "    # Method to deposit money\n",
        "    def deposit(self, amount):\n",
        "        if amount > 0:\n",
        "            self.__balance += amount\n",
        "            print(f\"Deposited: ₹{amount}\")\n",
        "        else:\n",
        "            print(\"Deposit amount must be positive.\")\n",
        "\n",
        "    # Method to withdraw money\n",
        "    def withdraw(self, amount):\n",
        "        if 0 < amount <= self.__balance:\n",
        "            self.__balance -= amount\n",
        "            print(f\"Withdrawn: ₹{amount}\")\n",
        "        else:\n",
        "            print(\"Insufficient balance or invalid amount.\")\n",
        "\n",
        "    # Method to check balance\n",
        "    def check_balance(self):\n",
        "        print(f\"Current Balance: ₹{self.__balance}\")\n",
        "\n",
        "\n",
        "# Example usage\n",
        "account = BankAccount(1000)\n",
        "\n",
        "account.check_balance()   # ₹1000\n",
        "account.deposit(500)      # +₹500\n",
        "account.withdraw(200)     # -₹200\n",
        "account.check_balance()   # ₹1300\n",
        "\n",
        "# Trying to access private attribute directly (not allowed)\n",
        "# print(account.__balance)  # This will raise an AttributeError"
      ],
      "metadata": {
        "colab": {
          "base_uri": "https://localhost:8080/"
        },
        "id": "o0RSmV7mX11s",
        "outputId": "ba6ca6ce-b373-46dd-96da-784e1327084a"
      },
      "execution_count": null,
      "outputs": [
        {
          "output_type": "stream",
          "name": "stdout",
          "text": [
            "Current Balance: ₹1000\n",
            "Deposited: ₹500\n",
            "Withdrawn: ₹200\n",
            "Current Balance: ₹1300\n"
          ]
        }
      ]
    },
    {
      "cell_type": "code",
      "source": [
        "#6. Demonstrate runtime polymorphism using a method play() in a base class Instrument. Derive classes Guitar and Piano that implement their own version of play().\n",
        "# Base class\n",
        "class Instrument:\n",
        "    def play(self):\n",
        "        print(\"Playing an instrument.\")\n",
        "\n",
        "# Derived class Guitar\n",
        "class Guitar(Instrument):\n",
        "    def play(self):\n",
        "        print(\"Strumming the guitar.\")\n",
        "\n",
        "# Derived class Piano\n",
        "class Piano(Instrument):\n",
        "    def play(self):\n",
        "        print(\"Playing the piano keys.\")\n",
        "\n",
        "# Function to demonstrate runtime polymorphism\n",
        "def perform_music(instrument):\n",
        "    instrument.play()\n",
        "\n",
        "# Creating objects\n",
        "g = Guitar()\n",
        "p = Piano()\n",
        "\n",
        "# Demonstrating runtime polymorphism.\n",
        "perform_music(g)\n",
        "perform_music(p)"
      ],
      "metadata": {
        "colab": {
          "base_uri": "https://localhost:8080/"
        },
        "id": "SXrAPFSQYP0n",
        "outputId": "b6be46d9-7026-4dce-bd72-69d41e25180d"
      },
      "execution_count": null,
      "outputs": [
        {
          "output_type": "stream",
          "name": "stdout",
          "text": [
            "Strumming the guitar.\n",
            "Playing the piano keys.\n"
          ]
        }
      ]
    },
    {
      "cell_type": "code",
      "source": [
        "#7. Create a class MathOperations with a class method add_numbers() to add two numbers and a static method subtract_numbers() to subtract two numbers.\n",
        "class MathOperations:\n",
        "    @classmethod\n",
        "    def add_numbers(cls, a, b):\n",
        "        return a + b\n",
        "\n",
        "    @staticmethod\n",
        "    def subtract_numbers(a, b):\n",
        "        return a - b\n",
        "\n",
        "# Example usage\n",
        "result_add = MathOperations.add_numbers(10, 5)\n",
        "result_subtract = MathOperations.subtract_numbers(10, 5)\n",
        "\n",
        "print(\"Addition Result:\", result_add)\n",
        "print(\"Subtraction Result:\", result_subtract)\n"
      ],
      "metadata": {
        "colab": {
          "base_uri": "https://localhost:8080/"
        },
        "id": "0G-iYV1PYtQX",
        "outputId": "de053387-6d05-4c8c-d594-b8b67615ffad"
      },
      "execution_count": null,
      "outputs": [
        {
          "output_type": "stream",
          "name": "stdout",
          "text": [
            "Addition Result: 15\n",
            "Subtraction Result: 5\n"
          ]
        }
      ]
    },
    {
      "cell_type": "code",
      "source": [
        "#8. Implement a class Person with a class method to count the total number of persons created.\n",
        "class Person:\n",
        "    # Class variable to keep count\n",
        "    count = 0\n",
        "\n",
        "    def __init__(self, name):\n",
        "        self.name = name\n",
        "        Person.count += 1  # Increment count when a new object is created\n",
        "\n",
        "    @classmethod\n",
        "    def total_persons(cls):\n",
        "        return cls.count\n",
        "\n",
        "\n",
        "# Example usage\n",
        "p1 = Person(\"Alice\")\n",
        "p2 = Person(\"Bob\")\n",
        "p3 = Person(\"Charlie\")\n",
        "\n",
        "print(\"Total persons created:\", Person.total_persons())\n"
      ],
      "metadata": {
        "colab": {
          "base_uri": "https://localhost:8080/"
        },
        "id": "CdvLDUBJZLo7",
        "outputId": "853e0dab-6d5c-4ade-89d6-227e7cff68b7"
      },
      "execution_count": null,
      "outputs": [
        {
          "output_type": "stream",
          "name": "stdout",
          "text": [
            "Total persons created: 3\n"
          ]
        }
      ]
    },
    {
      "cell_type": "code",
      "source": [
        "#9. Write a class Fraction with attributes numerator and denominator. Override the str method to display the fraction as \"numerator/denominator\".\n",
        "class Fraction:\n",
        "    def __init__(self, numerator, denominator):\n",
        "        self.numerator = numerator\n",
        "        self.denominator = denominator\n",
        "\n",
        "    # Overriding the __str__ method\n",
        "    def __str__(self):\n",
        "        return f\"{self.numerator}/{self.denominator}\"\n",
        "\n",
        "\n",
        "# Example usage\n",
        "f1 = Fraction(3, 4)\n",
        "f2 = Fraction(7, 10)\n",
        "\n",
        "print(f1)\n",
        "print(f2)\n"
      ],
      "metadata": {
        "colab": {
          "base_uri": "https://localhost:8080/"
        },
        "id": "UdUioAAwZzVr",
        "outputId": "272e958f-5125-4761-b9a0-2858f7d2900d"
      },
      "execution_count": null,
      "outputs": [
        {
          "output_type": "stream",
          "name": "stdout",
          "text": [
            "3/4\n",
            "7/10\n"
          ]
        }
      ]
    },
    {
      "cell_type": "code",
      "source": [
        "#10. Demonstrate operator overloading by creating a class Vector and overriding the add method to add two vectors.\n",
        "class Vector:\n",
        "    def __init__(self, x, y):\n",
        "        self.x = x\n",
        "        self.y = y\n",
        "\n",
        "    # Overloading the + operator\n",
        "    def __add__(self, other):\n",
        "        return Vector(self.x + other.x, self.y + other.y)\n",
        "\n",
        "    # To display the vector in a readable format\n",
        "    def __str__(self):\n",
        "        return f\"({self.x}, {self.y})\"\n",
        "\n",
        "\n",
        "# Example usage\n",
        "v1 = Vector(2, 3)\n",
        "v2 = Vector(4, 5)\n",
        "v3 = v1 + v2  # Calls __add__\n",
        "\n",
        "print(\"v1 =\", v1)\n",
        "print(\"v2 =\", v2)\n",
        "print(\"v1 + v2 =\", v3)"
      ],
      "metadata": {
        "colab": {
          "base_uri": "https://localhost:8080/"
        },
        "id": "8qP0YhN4aLOp",
        "outputId": "71f141d4-c00d-42f9-e95b-903f70627f75"
      },
      "execution_count": null,
      "outputs": [
        {
          "output_type": "stream",
          "name": "stdout",
          "text": [
            "v1 = (2, 3)\n",
            "v2 = (4, 5)\n",
            "v1 + v2 = (6, 8)\n"
          ]
        }
      ]
    },
    {
      "cell_type": "code",
      "source": [
        "#11. Create a class Person with attributes name and age. Add a method greet() that prints \"Hello, my name is {name} and I am {age} years old.\"\n",
        "class Person:\n",
        "    def __init__(self, name, age):\n",
        "        self.name = name\n",
        "        self.age = age\n",
        "\n",
        "    def greet(self):\n",
        "        print(f\"Hello, my name is {self.name} and I am {self.age} years old.\")\n",
        "\n",
        "\n",
        "# Example usage\n",
        "p1 = Person(\"Muskan\", 25)\n",
        "p2 = Person(\"Rahul\", 30)\n",
        "\n",
        "p1.greet()\n",
        "p2.greet()\n"
      ],
      "metadata": {
        "colab": {
          "base_uri": "https://localhost:8080/"
        },
        "id": "sI_MpL6lahsQ",
        "outputId": "4fa72c11-4e48-4073-b05a-58e9eed0596e"
      },
      "execution_count": null,
      "outputs": [
        {
          "output_type": "stream",
          "name": "stdout",
          "text": [
            "Hello, my name is Muskan and I am 25 years old.\n",
            "Hello, my name is Rahul and I am 30 years old.\n"
          ]
        }
      ]
    },
    {
      "cell_type": "code",
      "source": [
        "#12. Implement a class Student with attributes name and grades. Create a method average_grade() to compute the average of the grades.\n",
        "class Student:\n",
        "    def __init__(self, name, grades):\n",
        "        self.name = name\n",
        "        self.grades = grades  # Expecting a list of numbers\n",
        "\n",
        "    def average_grade(self):\n",
        "        if self.grades:\n",
        "            return sum(self.grades) / len(self.grades)\n",
        "        else:\n",
        "            return 0  # Return 0 if no grades present\n",
        "\n",
        "\n",
        "# Example usage\n",
        "s1 = Student(\"Muskan\", [85, 90, 78])\n",
        "s2 = Student(\"Rahul\", [88, 92, 95, 91])\n",
        "\n",
        "print(f\"{s1.name}'s average grade: {s1.average_grade():.2f}\")\n",
        "print(f\"{s2.name}'s average grade: {s2.average_grade():.2f}\")\n"
      ],
      "metadata": {
        "colab": {
          "base_uri": "https://localhost:8080/"
        },
        "id": "E7JiuC_Za6cP",
        "outputId": "122ae4b3-3935-487c-98f4-e0f467c6265b"
      },
      "execution_count": null,
      "outputs": [
        {
          "output_type": "stream",
          "name": "stdout",
          "text": [
            "Muskan's average grade: 84.33\n",
            "Rahul's average grade: 91.50\n"
          ]
        }
      ]
    },
    {
      "cell_type": "code",
      "source": [
        "#13. Create a class Rectangle with methods set_dimensions() to set the dimensions and area() to calculate the area.\n",
        "class Rectangle:\n",
        "    def __init__(self):\n",
        "        self.length = 0\n",
        "        self.width = 0\n",
        "\n",
        "    def set_dimensions(self, length, width):\n",
        "        self.length = length\n",
        "        self.width = width\n",
        "\n",
        "    def area(self):\n",
        "        return self.length * self.width\n",
        "\n",
        "\n",
        "# Example usage\n",
        "rect = Rectangle()\n",
        "rect.set_dimensions(5, 3)\n",
        "\n",
        "print(\"Area of the rectangle:\", rect.area())\n"
      ],
      "metadata": {
        "colab": {
          "base_uri": "https://localhost:8080/"
        },
        "id": "SRRsim-Gb1a3",
        "outputId": "c8eac7b1-6340-4a34-a61d-0a02016a9ebb"
      },
      "execution_count": null,
      "outputs": [
        {
          "output_type": "stream",
          "name": "stdout",
          "text": [
            "Area of the rectangle: 15\n"
          ]
        }
      ]
    },
    {
      "cell_type": "code",
      "source": [
        "#14. Create a class Employee with a method calculate_salary() that computes the salary based on hours worked and hourly rate. Create a derived class Manager that adds a bonus to the salary.\n",
        "# Base class\n",
        "class Employee:\n",
        "    def __init__(self, name, hours_worked, hourly_rate):\n",
        "        self.name = name\n",
        "        self.hours_worked = hours_worked\n",
        "        self.hourly_rate = hourly_rate\n",
        "\n",
        "    def calculate_salary(self):\n",
        "        return self.hours_worked * self.hourly_rate\n",
        "\n",
        "# Derived class\n",
        "class Manager(Employee):\n",
        "    def __init__(self, name, hours_worked, hourly_rate, bonus):\n",
        "        super().__init__(name, hours_worked, hourly_rate)\n",
        "        self.bonus = bonus\n",
        "\n",
        "    def calculate_salary(self):\n",
        "        base_salary = super().calculate_salary()\n",
        "        return base_salary + self.bonus\n",
        "\n",
        "\n",
        "# Example usage\n",
        "emp = Employee(\"John\", 40, 200)\n",
        "mgr = Manager(\"Alice\", 40, 300, 5000)\n",
        "\n",
        "print(f\"{emp.name}'s Salary: ₹{emp.calculate_salary()}\")\n",
        "print(f\"{mgr.name}'s Salary (with bonus): ₹{mgr.calculate_salary()}\")"
      ],
      "metadata": {
        "colab": {
          "base_uri": "https://localhost:8080/"
        },
        "id": "3F2FL1HqcFa4",
        "outputId": "db362a54-1a21-4813-8f92-8956013a27a1"
      },
      "execution_count": null,
      "outputs": [
        {
          "output_type": "stream",
          "name": "stdout",
          "text": [
            "John's Salary: ₹8000\n",
            "Alice's Salary (with bonus): ₹17000\n"
          ]
        }
      ]
    },
    {
      "cell_type": "code",
      "source": [
        "#15. Create a class Product with attributes name, price, and quantity. Implement a method total_price() that calculates the total price of the product.\n",
        "class Product:\n",
        "    def __init__(self, name, price, quantity):\n",
        "        self.name = name\n",
        "        self.price = price      # Price per unit\n",
        "        self.quantity = quantity  # Number of units\n",
        "\n",
        "    def total_price(self):\n",
        "        return self.price * self.quantity\n",
        "\n",
        "\n",
        "# Example usage\n",
        "p1 = Product(\"Laptop\", 50000, 2)\n",
        "p2 = Product(\"Phone\", 20000, 3)\n",
        "\n",
        "print(f\"Total price for {p1.name}: ₹{p1.total_price()}\")\n",
        "print(f\"Total price for {p2.name}: ₹{p2.total_price()}\")\n"
      ],
      "metadata": {
        "colab": {
          "base_uri": "https://localhost:8080/"
        },
        "id": "9ef4IlwlcmZO",
        "outputId": "2ffdc51a-aa4e-4dd6-d285-243991ea87c6"
      },
      "execution_count": null,
      "outputs": [
        {
          "output_type": "stream",
          "name": "stdout",
          "text": [
            "Total price for Laptop: ₹100000\n",
            "Total price for Phone: ₹60000\n"
          ]
        }
      ]
    },
    {
      "cell_type": "code",
      "source": [
        "#16. Create a class Animal with an abstract method sound(). Create two derived classes Cow and Sheep that implement the sound() method.\n",
        "from abc import ABC, abstractmethod\n",
        "\n",
        "# Abstract base class\n",
        "class Animal(ABC):\n",
        "    @abstractmethod\n",
        "    def sound(self):\n",
        "        pass\n",
        "\n",
        "# Derived class Cow\n",
        "class Cow(Animal):\n",
        "    def sound(self):\n",
        "        return \"Moo\"\n",
        "\n",
        "# Derived class Sheep\n",
        "class Sheep(Animal):\n",
        "    def sound(self):\n",
        "        return \"Baa\"\n",
        "\n",
        "# Example usage\n",
        "cow = Cow()\n",
        "sheep = Sheep()\n",
        "\n",
        "print(\"Cow sound:\", cow.sound())\n",
        "print(\"Sheep sound:\", sheep.sound())"
      ],
      "metadata": {
        "colab": {
          "base_uri": "https://localhost:8080/"
        },
        "id": "W-xF2udzdKI2",
        "outputId": "f9741f4b-cefc-411c-b3ee-11e5ffe8c15c"
      },
      "execution_count": null,
      "outputs": [
        {
          "output_type": "stream",
          "name": "stdout",
          "text": [
            "Cow sound: Moo\n",
            "Sheep sound: Baa\n"
          ]
        }
      ]
    },
    {
      "cell_type": "code",
      "source": [
        "#17. Create a class Book with attributes title, author, and year_published. Add a method get_book_info() that returns a formatted string with the book's details.\n",
        "class Book:\n",
        "    def __init__(self, title, author, year_published):\n",
        "        self.title = title\n",
        "        self.author = author\n",
        "        self.year_published = year_published\n",
        "\n",
        "    def get_book_info(self):\n",
        "        return f\"'{self.title}' by {self.author} (Published in {self.year_published})\"\n",
        "\n",
        "\n",
        "# Example usage\n",
        "book1 = Book(\"To Kill a Mockingbird\", \"Harper Lee\", 1960)\n",
        "book2 = Book(\"1984\", \"George Orwell\", 1949)\n",
        "\n",
        "print(book1.get_book_info())\n",
        "print(book2.get_book_info())\n"
      ],
      "metadata": {
        "colab": {
          "base_uri": "https://localhost:8080/"
        },
        "id": "_5ayzmkud-u6",
        "outputId": "6f29e606-7856-4680-b683-81ca1aa172d5"
      },
      "execution_count": null,
      "outputs": [
        {
          "output_type": "stream",
          "name": "stdout",
          "text": [
            "'To Kill a Mockingbird' by Harper Lee (Published in 1960)\n",
            "'1984' by George Orwell (Published in 1949)\n"
          ]
        }
      ]
    },
    {
      "cell_type": "code",
      "source": [
        "#18. Create a class House with attributes address and price. Create a derived class Mansion that adds an attribute number_of_rooms.\n",
        "# Base class\n",
        "class House:\n",
        "    def __init__(self, address, price):\n",
        "        self.address = address\n",
        "        self.price = price\n",
        "\n",
        "    def get_details(self):\n",
        "        return f\"Address: {self.address}, Price: ₹{self.price}\"\n",
        "\n",
        "\n",
        "# Derived class\n",
        "class Mansion(House):\n",
        "    def __init__(self, address, price, number_of_rooms):\n",
        "        super().__init__(address, price)\n",
        "        self.number_of_rooms = number_of_rooms\n",
        "\n",
        "    def get_details(self):\n",
        "        base_details = super().get_details()\n",
        "        return f\"{base_details}, Number of Rooms: {self.number_of_rooms}\"\n",
        "\n",
        "\n",
        "# Example usage\n",
        "house1 = House(\"123 Green St\", 5000000)\n",
        "mansion1 = Mansion(\"456 Royal Ave\", 25000000, 10)\n",
        "\n",
        "print(house1.get_details())\n",
        "print(mansion1.get_details())"
      ],
      "metadata": {
        "colab": {
          "base_uri": "https://localhost:8080/"
        },
        "id": "TfLu1m-veihy",
        "outputId": "8f23da6d-5a14-460c-bb09-f089105998a9"
      },
      "execution_count": null,
      "outputs": [
        {
          "output_type": "stream",
          "name": "stdout",
          "text": [
            "Address: 123 Green St, Price: ₹5000000\n",
            "Address: 456 Royal Ave, Price: ₹25000000, Number of Rooms: 10\n"
          ]
        }
      ]
    }
  ]
}