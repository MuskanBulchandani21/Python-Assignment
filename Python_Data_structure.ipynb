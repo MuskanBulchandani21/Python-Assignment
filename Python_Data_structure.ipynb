{
  "nbformat": 4,
  "nbformat_minor": 0,
  "metadata": {
    "colab": {
      "provenance": []
    },
    "kernelspec": {
      "name": "python3",
      "display_name": "Python 3"
    },
    "language_info": {
      "name": "python"
    }
  },
  "cells": [
    {
      "cell_type": "markdown",
      "source": [
        "#**Python-Data structure theory questions.**\n"
      ],
      "metadata": {
        "id": "eei1re598Ms4"
      }
    },
    {
      "cell_type": "markdown",
      "source": [
        "#1.What are data structures, and why are they important?\n",
        "-Data structures are ways of organizing and storing data so that it can be used efficiently. They help in arranging data in a proper format, making it easier to perform operations like searching, sorting, and updating.\n",
        "\n",
        "Examples of data structures include arrays, linked lists, stacks, queues, trees, and graphs. Each type is used for different purposes depending on the problem.\n",
        "\n",
        "They are important because they make our programs faster and more efficient. Choosing the right data structure can save time and memory. It also makes the code cleaner and easier to understand. Overall, data structures are a key part of programming and problem-solving."
      ],
      "metadata": {
        "id": "5Ac40JgA9Lpx"
      }
    },
    {
      "cell_type": "markdown",
      "source": [
        "#2.Explain the difference between mutable and immutable data types with examples.\n",
        "-In Python, mutable data types are those whose values can be changed after they are created. This means we can add, remove, or modify elements without creating a new object. Examples include list, dictionary, and set.\n",
        "For example, a list of numbers can be updated by adding or removing items.\n",
        "\n",
        "On the other hand, immutable data types cannot be changed once they are created. If we try to modify them, a new object is formed instead. Examples include string, integer, and tuple.\n",
        "For example, if we try to change a string, Python creates a new string instead of changing the original one.\n",
        "\n",
        "The main difference is that mutable types can be updated directly, while immutable types stay fixed once created.\n",
        "\n"
      ],
      "metadata": {
        "id": "FxAPUCjhGL_M"
      }
    },
    {
      "cell_type": "markdown",
      "source": [
        "#3.What are the main differences between lists and tuples in Python.\n",
        "-Lists and tuples are both used to store collections of data in Python, but they are different in a few ways.\n",
        "\n",
        "The main difference is that lists are mutable, which means we can change their content after creation. Tuples are immutable, so once they are created, we cannot modify them.\n",
        "\n",
        "Lists use square brackets [ ], while tuples use round brackets ( ).\n",
        "\n",
        "In general, we use lists when the data may change, like a list of tasks. Tuples are used when the data should stay the same, like days of the week."
      ],
      "metadata": {
        "id": "qLZJGacUGkse"
      }
    },
    {
      "cell_type": "markdown",
      "source": [
        "#4.Describe how dictionaries store data.\n",
        "-Dictionaries store data in the form of key-value pairs. This means each piece of data is connected to a unique key. The key works like a label that helps to find the value easily. All the data is written inside curly brackets { }, and each key is followed by a colon : and its value. Keys cannot be repeated, but values can be the same. This way of storing data helps in keeping the information organized and easy to access."
      ],
      "metadata": {
        "id": "nPKnVJfeH5WZ"
      }
    },
    {
      "cell_type": "markdown",
      "source": [
        "#5.Why might you use a set instead of a list in Python?\n",
        "-We use a set instead of a list in Python when we need to store only unique values. Sets do not allow duplicate items, so they are useful when repeating elements are not needed. Also, sets are faster than lists for checking whether an item exists. If the order of elements is not important, then using a set is a better choice than a list."
      ],
      "metadata": {
        "id": "vJrJfmbIAccz"
      }
    },
    {
      "cell_type": "markdown",
      "source": [
        "#6.What is a string in Python, and how is it different from a list?\n",
        "-A string in Python is a sequence of characters written inside quotes. It can include letters, numbers, or symbols. A list, on the other hand, is a collection that can store different types of data like numbers, strings, or even other lists. The main difference is that strings are used for text, while lists are used to store a group of items. Also, strings are immutable (can’t be changed), but lists are mutable (can be changed).\n",
        "\n"
      ],
      "metadata": {
        "id": "K4n7_lsSBaUo"
      }
    },
    {
      "cell_type": "markdown",
      "source": [
        "#7.How do tuples ensure data integrity in Python?\n",
        "-Tuples help ensure data integrity in Python because they are immutable, which means their values cannot be changed after they are created. This protects the data from being modified by mistake. When we want to store fixed or constant information, using a tuple is a good choice. It keeps the data safe and secure, which helps in maintaining accuracy and consistency in programs.\n"
      ],
      "metadata": {
        "id": "3QCORwjEB7Wn"
      }
    },
    {
      "cell_type": "markdown",
      "source": [
        "#8.What is a hash table, and how does it relate to dictionaries in Python?\n",
        "-A hash table is a data structure that stores data in key-value pairs and uses a process called hashing to quickly find the value based on its key. In Python, dictionaries are built using hash tables. When we use a dictionary, Python uses a hash function to convert the key into an index where the value is stored. This makes it faster and easier to search, insert, or delete data using keys. So, dictionaries are basically a practical use of hash tables in Python.\n"
      ],
      "metadata": {
        "id": "PGbS9QwRCTc4"
      }
    },
    {
      "cell_type": "markdown",
      "source": [
        "#9.Can lists contain different data types in Python?\n",
        "-Yes, lists in Python can contain different data types. This means a single list can store items like numbers, text, boolean values, or even other lists. Python allows this to give more flexibility while working with data. This makes lists very useful when we need to store a mix of different kinds of information together"
      ],
      "metadata": {
        "id": "T7ft8I-OD4An"
      }
    },
    {
      "cell_type": "markdown",
      "source": [
        "#10.Explain why strings are immutable in Python.\n",
        "-Strings are immutable in Python, which means they cannot be changed after they are created. This is done to make strings safe and reliable, especially when they are used in loops or as keys in dictionaries. If strings were changeable, it could cause unexpected errors or bugs in programs. So, to keep the data secure and consistent, Python makes strings immutable\n"
      ],
      "metadata": {
        "id": "Ci81INZaEdCE"
      }
    },
    {
      "cell_type": "markdown",
      "source": [
        "#11.What advantages do dictionaries offer over lists for certain tasks?\n",
        "-Dictionaries offer some advantages over lists for certain tasks. The main benefit is that they allow us to store and access data using keys, not just positions like in lists. This makes it faster and easier to find specific values. Dictionaries also help in keeping the data more organized and readable, especially when we are working with related pairs of information. So, for tasks where we need quick lookup or named data, dictionaries are more useful than lists."
      ],
      "metadata": {
        "id": "HaR1kKE4FM3W"
      }
    },
    {
      "cell_type": "markdown",
      "source": [
        "#12.Describe a scenario where using a tuple would be preferable over a list.\n",
        "-A tuple would be preferable over a list when we want to store data that should not be changed. For example, if we have a set of values like days of the week or fixed coordinates, using a tuple is better because it is immutable. This helps to protect the data from accidental changes and keeps it safe. So, when the data is constant and we just need to use or display it, a tuple is the better choice.\n",
        "\n",
        "\n"
      ],
      "metadata": {
        "id": "EmnLvjQ8FjI4"
      }
    },
    {
      "cell_type": "markdown",
      "source": [
        "#13.How do sets handle duplicate values in Python?\n",
        "-In Python, sets do not allow duplicate values. When we add elements to a set, it automatically removes any repeated items and keeps only unique values. This helps in cleaning up data and is useful when we want to store a group of items without any repetition. So, sets handle duplicates by simply ignoring them and keeping just one copy of each value.\n"
      ],
      "metadata": {
        "id": "TdZhxS-PF_vN"
      }
    },
    {
      "cell_type": "markdown",
      "source": [
        "#14.How does the “in” keyword work differently for lists and dictionaries?\n",
        "-The “in” keyword is used to check if a value exists, but it works differently for lists and dictionaries. In a list, it checks if the value is present in the list. But in a dictionary, it only checks if the key is present, not the value. This means in lists we search for actual data, while in dictionaries we check for keys that point to the data. This difference is important to understand when working with both.\n",
        "\n",
        "\n"
      ],
      "metadata": {
        "id": "I2-3sLASGU7P"
      }
    },
    {
      "cell_type": "markdown",
      "source": [
        "#15.Can you modify the elements of a tuple? Explain why or why not.\n",
        "-No, we cannot modify the elements of a tuple. This is because tuples are immutable, which means once they are created, their values cannot be changed, added, or removed. Python does this to protect the data and make sure it stays the same. This helps avoid accidental changes and makes the program more reliable and safe when working with fixed data.\n"
      ],
      "metadata": {
        "id": "YPUr6EoNG02X"
      }
    },
    {
      "cell_type": "markdown",
      "source": [
        "#16.What is a nested dictionary, and give an example of its use case?\n",
        "-A nested dictionary is a dictionary that contains another dictionary as its value. It is used when we want to organize complex data in a structured way. For example, it can be useful when storing information about multiple people, where each person's details like name, age, and city are stored in their own dictionary inside a main dictionary. This helps keep related data together and makes it easier to access specific information.\n"
      ],
      "metadata": {
        "id": "JeisUxCOHfAU"
      }
    },
    {
      "cell_type": "markdown",
      "source": [
        "#17.Describe the time complexity of accessing elements in a dictionary.\n",
        "-The time complexity of accessing elements in a dictionary is generally O(1), which means it takes constant time. This is because dictionaries use a hash table in the background, allowing Python to quickly find the value using its key. So, no matter how large the dictionary is, accessing a value by its key is usually very fast and efficient\n",
        "\n"
      ],
      "metadata": {
        "id": "zxC6NsuPH2hb"
      }
    },
    {
      "cell_type": "markdown",
      "source": [
        "#18.In what situations are lists preferred over dictionaries?\n",
        "-Lists are preferred over dictionaries when we need to store a collection of items in a specific order. They are useful when the position or sequence of elements matters. Lists are also a good choice when we don’t need to label each item with a key and just want to store multiple values like numbers, names, or other data types. So, when we want to work with data based on index rather than key, lists are more suitable.\n",
        "\n",
        "\n"
      ],
      "metadata": {
        "id": "xkLmMJMySEh_"
      }
    },
    {
      "cell_type": "markdown",
      "source": [
        "#19.Why are dictionaries considered unordered, and how does that affect data retrieval?\n",
        "-Dictionaries are considered unordered because they do not store items in a fixed sequence like lists do. The elements are stored based on the hash of the keys, not by position. This means when we retrieve data, we use the key and not the position or order. It doesn’t affect retrieval because we can still quickly access values using their keys, but we can’t rely on the order in which items were added.\n",
        "\n",
        "\n"
      ],
      "metadata": {
        "id": "8YWlFohqSlRB"
      }
    },
    {
      "cell_type": "markdown",
      "source": [
        "#20.Explain the difference between a list and a dictionary in terms of data retrieval.\n",
        "-The main difference between a list and a dictionary in terms of data retrieval is how we access the data. In a list, we retrieve items using their index number (position), starting from 0. But in a dictionary, we access values using a key, which is more like a label. This means lists are good when we care about the order, while dictionaries are better when we need faster access using specific names or labels.\n",
        "\n",
        "\n"
      ],
      "metadata": {
        "id": "CEt87pqGTFZ1"
      }
    },
    {
      "cell_type": "markdown",
      "source": [
        "#**Python-Data structure practical queations**"
      ],
      "metadata": {
        "id": "k0toSpcWTbqW"
      }
    },
    {
      "cell_type": "code",
      "source": [
        "#1.Write a code to create a string with your name and print.\n",
        "name = \"Muskan\"\n",
        "print(name)\n"
      ],
      "metadata": {
        "colab": {
          "base_uri": "https://localhost:8080/"
        },
        "id": "LsjR3NvFUSb0",
        "outputId": "b0df1643-656b-45ce-d722-6e64b6b3252f"
      },
      "execution_count": null,
      "outputs": [
        {
          "output_type": "stream",
          "name": "stdout",
          "text": [
            "Muskan\n"
          ]
        }
      ]
    },
    {
      "cell_type": "code",
      "source": [
        "#2.Write a code to find the length of the string \"Hello World\".\n",
        "string = \"Hello World\"\n",
        "print(len(string))\n",
        "\n"
      ],
      "metadata": {
        "colab": {
          "base_uri": "https://localhost:8080/"
        },
        "id": "JEd2wRZ8VNjm",
        "outputId": "8eb3a359-1c1a-4806-ef89-8eb8e3095892"
      },
      "execution_count": null,
      "outputs": [
        {
          "output_type": "stream",
          "name": "stdout",
          "text": [
            "11\n"
          ]
        }
      ]
    },
    {
      "cell_type": "code",
      "source": [
        "#3.Write a code to slice the first 3 characters from the string \"Python Programming\".\n",
        "string = \"Python Programming\"\n",
        "print(string[:3])\n"
      ],
      "metadata": {
        "colab": {
          "base_uri": "https://localhost:8080/"
        },
        "id": "bFUm9hkAV4Ht",
        "outputId": "fac92ff7-81ce-44ac-80d5-46b7771e521e"
      },
      "execution_count": null,
      "outputs": [
        {
          "output_type": "stream",
          "name": "stdout",
          "text": [
            "Pyt\n"
          ]
        }
      ]
    },
    {
      "cell_type": "code",
      "source": [
        "#4.Write a code to convert the string \"hello\" to uppercase.\n",
        "string = \"hello\"\n",
        "print(string.upper())\n"
      ],
      "metadata": {
        "colab": {
          "base_uri": "https://localhost:8080/"
        },
        "id": "9a7sGZwPWZ33",
        "outputId": "809825ba-f036-4955-a20c-15f3cbaa3919"
      },
      "execution_count": null,
      "outputs": [
        {
          "output_type": "stream",
          "name": "stdout",
          "text": [
            "HELLO\n"
          ]
        }
      ]
    },
    {
      "cell_type": "code",
      "source": [
        "#5.Write a code to replace the word \"apple\" with \"orange\" in the string \"I like apple\".\n",
        "string = \"I like apple\"\n",
        "print(string.replace(\"apple\", \"orange\"))\n",
        "\n"
      ],
      "metadata": {
        "colab": {
          "base_uri": "https://localhost:8080/"
        },
        "id": "Ue6rak8Bbgcf",
        "outputId": "0584002d-5caf-4c88-e734-aefa737bca21"
      },
      "execution_count": null,
      "outputs": [
        {
          "output_type": "stream",
          "name": "stdout",
          "text": [
            "I like orange\n"
          ]
        }
      ]
    },
    {
      "cell_type": "code",
      "source": [
        "#6.Write a code to create a list with numbers 1 to 5 and print it.\n",
        "list = [1, 2, 3, 4, 5]\n",
        "print(list)\n"
      ],
      "metadata": {
        "colab": {
          "base_uri": "https://localhost:8080/"
        },
        "id": "_DnIuG-YcApn",
        "outputId": "e784949b-2512-43ce-db9c-d6607386e7f6"
      },
      "execution_count": null,
      "outputs": [
        {
          "output_type": "stream",
          "name": "stdout",
          "text": [
            "[1, 2, 3, 4, 5]\n"
          ]
        }
      ]
    },
    {
      "cell_type": "code",
      "source": [
        "#7.Write a code to append the number 10 to the list [1, 2, 3, 4].\n",
        "list = [1, 2, 3, 4]\n",
        "list.append(10)\n",
        "print(list)\n"
      ],
      "metadata": {
        "colab": {
          "base_uri": "https://localhost:8080/"
        },
        "id": "FNCkBOPWcXcu",
        "outputId": "e241cedd-5788-458e-c126-d4e586e92cc0"
      },
      "execution_count": null,
      "outputs": [
        {
          "output_type": "stream",
          "name": "stdout",
          "text": [
            "[1, 2, 3, 4, 10]\n"
          ]
        }
      ]
    },
    {
      "cell_type": "code",
      "source": [
        "#8.Write a code to remove the number 3 from the list [1, 2, 3, 4, 5].\n",
        "list = [1, 2, 3, 4, 5]\n",
        "list.remove(3)\n",
        "print(list)\n"
      ],
      "metadata": {
        "colab": {
          "base_uri": "https://localhost:8080/"
        },
        "id": "ga0AJfbicvpF",
        "outputId": "4c787d54-dce8-45a7-b178-0a79e8effd3b"
      },
      "execution_count": null,
      "outputs": [
        {
          "output_type": "stream",
          "name": "stdout",
          "text": [
            "[1, 2, 4, 5]\n"
          ]
        }
      ]
    },
    {
      "cell_type": "code",
      "source": [
        "#9.Write a code to access the second element in the list ['a', 'b', 'c', 'd'].\n",
        "list = ['a', 'b', 'c', 'd']\n",
        "print(list[1])\n"
      ],
      "metadata": {
        "colab": {
          "base_uri": "https://localhost:8080/"
        },
        "id": "9K4gL21bdAP4",
        "outputId": "d8acb13d-6312-4804-cee2-4efb0bc94f2b"
      },
      "execution_count": null,
      "outputs": [
        {
          "output_type": "stream",
          "name": "stdout",
          "text": [
            "b\n"
          ]
        }
      ]
    },
    {
      "cell_type": "code",
      "source": [
        "#10.Write a code to reverse the list [10, 20, 30, 40, 50].\n",
        "list = [10, 20, 30, 40, 50]\n",
        "print(list[::-1])"
      ],
      "metadata": {
        "colab": {
          "base_uri": "https://localhost:8080/"
        },
        "id": "4ibu8JAedUr2",
        "outputId": "84b47719-11e9-4c3d-a2cf-ba98c686ddfa"
      },
      "execution_count": null,
      "outputs": [
        {
          "output_type": "stream",
          "name": "stdout",
          "text": [
            "[50, 40, 30, 20, 10]\n"
          ]
        }
      ]
    },
    {
      "cell_type": "code",
      "source": [
        "#11.Write a code to create a tuple with the elements 100, 200, 300 and print it.\n",
        "tuple = (100, 200, 300)\n",
        "print(tuple)\n"
      ],
      "metadata": {
        "colab": {
          "base_uri": "https://localhost:8080/"
        },
        "id": "WWeYC1xmdjom",
        "outputId": "a1eebb6e-554f-4b0b-f9a8-60ae2de87041"
      },
      "execution_count": null,
      "outputs": [
        {
          "output_type": "stream",
          "name": "stdout",
          "text": [
            "(100, 200, 300)\n"
          ]
        }
      ]
    },
    {
      "cell_type": "code",
      "source": [
        "#12.Write a code to access the second-to-last element of the tuple ('red', 'green', 'blue', 'yellow').\n",
        "tuple = ('red', 'green', 'blue', 'yellow')\n",
        "print(tuple[-2])"
      ],
      "metadata": {
        "colab": {
          "base_uri": "https://localhost:8080/"
        },
        "id": "BzevRAV9du3Q",
        "outputId": "d089aa47-fe38-4d3c-b43e-1e7dca7318c0"
      },
      "execution_count": null,
      "outputs": [
        {
          "output_type": "stream",
          "name": "stdout",
          "text": [
            "blue\n"
          ]
        }
      ]
    },
    {
      "cell_type": "code",
      "source": [
        "#13.Write a code to find the minimum number in the tuple (10, 20, 5, 15).\n",
        "tuple = (10, 20, 5, 15)\n",
        "print(min(tuple))\n"
      ],
      "metadata": {
        "colab": {
          "base_uri": "https://localhost:8080/"
        },
        "id": "WsU-85UGecJT",
        "outputId": "80052c7a-1fdd-47da-90c4-32342553b916"
      },
      "execution_count": null,
      "outputs": [
        {
          "output_type": "stream",
          "name": "stdout",
          "text": [
            "5\n"
          ]
        }
      ]
    },
    {
      "cell_type": "code",
      "source": [
        "#14.Write a code to find the index of the element \"cat\" in the tuple ('dog', 'cat', 'rabbit').\n",
        "tuple = ('dog', 'cat', 'rabbit')\n",
        "print(tuple.index('cat'))"
      ],
      "metadata": {
        "colab": {
          "base_uri": "https://localhost:8080/"
        },
        "id": "9JltR5eXe3eH",
        "outputId": "264cd5e3-d4c1-4b3e-f752-5c7368a2a98d"
      },
      "execution_count": null,
      "outputs": [
        {
          "output_type": "stream",
          "name": "stdout",
          "text": [
            "1\n"
          ]
        }
      ]
    },
    {
      "cell_type": "code",
      "source": [
        "#15. Write a code to create a tuple containing three different fruits and check if \"kiwi\" is in it.\n",
        "tuple = ('apple', 'banana', 'orange')\n",
        "print('kiwi' in tuple)"
      ],
      "metadata": {
        "colab": {
          "base_uri": "https://localhost:8080/"
        },
        "id": "iY0b4o-YfJ-V",
        "outputId": "37b42056-c94c-424d-9366-84bc790b23e7"
      },
      "execution_count": null,
      "outputs": [
        {
          "output_type": "stream",
          "name": "stdout",
          "text": [
            "False\n"
          ]
        }
      ]
    },
    {
      "cell_type": "code",
      "source": [
        "#16.Write a code to create a set with the elements 'a', 'b', 'c' and print it.\n",
        "set = {'a', 'b', 'c'}\n",
        "print(set)\n"
      ],
      "metadata": {
        "colab": {
          "base_uri": "https://localhost:8080/"
        },
        "id": "1pivIMslhLda",
        "outputId": "5e4b9055-9baf-4c4e-f507-0f6b0ae913cb"
      },
      "execution_count": null,
      "outputs": [
        {
          "output_type": "stream",
          "name": "stdout",
          "text": [
            "{'b', 'c', 'a'}\n"
          ]
        }
      ]
    },
    {
      "cell_type": "code",
      "source": [
        "#17.Write a code to clear all elements from the set {1, 2, 3, 4, 5}.\n",
        "set = {1, 2, 3, 4, 5}\n",
        "set.clear()\n",
        "print(set)"
      ],
      "metadata": {
        "colab": {
          "base_uri": "https://localhost:8080/"
        },
        "id": "_8wNFwzMjo8R",
        "outputId": "32549d8f-bd0a-463e-bf3f-843135000bc5"
      },
      "execution_count": null,
      "outputs": [
        {
          "output_type": "stream",
          "name": "stdout",
          "text": [
            "set()\n"
          ]
        }
      ]
    },
    {
      "cell_type": "code",
      "source": [
        "#18.Write a code to remove the element 4 from the set {1, 2, 3, 4}.\n",
        "set = {1, 2, 3, 4}\n",
        "set.remove(4)\n",
        "print(set)"
      ],
      "metadata": {
        "colab": {
          "base_uri": "https://localhost:8080/"
        },
        "id": "hRjcwyA0kGca",
        "outputId": "90a5365b-8c91-4085-ea5d-fd9d448cad8f"
      },
      "execution_count": null,
      "outputs": [
        {
          "output_type": "stream",
          "name": "stdout",
          "text": [
            "{1, 2, 3}\n"
          ]
        }
      ]
    },
    {
      "cell_type": "code",
      "source": [
        "#19.Write a code to find the union of two sets {1, 2, 3} and {3, 4, 5}.\n",
        "set1 = {1, 2, 3}\n",
        "set2 = {3, 4, 5}\n",
        "print(set1.union(set2))"
      ],
      "metadata": {
        "colab": {
          "base_uri": "https://localhost:8080/"
        },
        "id": "BLfcVw5wkcjH",
        "outputId": "4b1fdc0a-458b-4d86-8a30-67e76d42c302"
      },
      "execution_count": null,
      "outputs": [
        {
          "output_type": "stream",
          "name": "stdout",
          "text": [
            "{1, 2, 3, 4, 5}\n"
          ]
        }
      ]
    },
    {
      "cell_type": "code",
      "source": [
        "#20.Write a code to find the intersection of two sets {1, 2, 3} and {2, 3, 4}.\n",
        "set1 = {1, 2, 3}\n",
        "set2 = {2, 3, 4}\n",
        "print(set1.intersection(set2))"
      ],
      "metadata": {
        "colab": {
          "base_uri": "https://localhost:8080/"
        },
        "id": "T5MY2Z0FkrFd",
        "outputId": "2bc9e7d0-e1bc-49fb-8b5f-e271a30ae6d1"
      },
      "execution_count": null,
      "outputs": [
        {
          "output_type": "stream",
          "name": "stdout",
          "text": [
            "{2, 3}\n"
          ]
        }
      ]
    },
    {
      "cell_type": "code",
      "source": [
        "#21.Write a code to create a dictionary with the keys \"name\", \"age\", and \"city\", and print it.\n",
        "dictionary = {\n",
        "    \"name\": \"Muskan\",\n",
        "    \"age\": 20,\n",
        "    \"city\": \"Lucknow\"\n",
        "}\n",
        "print(dictionary)"
      ],
      "metadata": {
        "colab": {
          "base_uri": "https://localhost:8080/"
        },
        "id": "8eSpzrJMjvUo",
        "outputId": "4ce09905-edd9-4027-994e-f6b89029efb5"
      },
      "execution_count": null,
      "outputs": [
        {
          "output_type": "stream",
          "name": "stdout",
          "text": [
            "{'name': 'Muskan', 'age': 20, 'city': 'Lucknow'}\n"
          ]
        }
      ]
    },
    {
      "cell_type": "code",
      "source": [
        "#22.Write a code to add a new key-value pair \"country\": \"USA\" to the dictionary {'name': 'John', 'age': 25}.\n",
        "dictionary = {'name': 'John', 'age': 25}\n",
        "dictionary['country'] = 'USA'\n",
        "print(dictionary)"
      ],
      "metadata": {
        "colab": {
          "base_uri": "https://localhost:8080/"
        },
        "id": "DFIyMR_SkDb7",
        "outputId": "7af927aa-3253-4866-f9cd-4556f8649202"
      },
      "execution_count": null,
      "outputs": [
        {
          "output_type": "stream",
          "name": "stdout",
          "text": [
            "{'name': 'John', 'age': 25, 'country': 'USA'}\n"
          ]
        }
      ]
    },
    {
      "cell_type": "code",
      "source": [
        "#23.Write a code to access the value associated with the key \"name\" in the dictionary {'name': 'Alice', 'age': 30}.\n",
        "dictionary = {'name': 'Alice', 'age': 30}\n",
        "print(dictionary['name'])"
      ],
      "metadata": {
        "colab": {
          "base_uri": "https://localhost:8080/"
        },
        "id": "84qWNn0JkSZU",
        "outputId": "2e815139-18f4-4dd8-efd6-555bdc3a9c33"
      },
      "execution_count": null,
      "outputs": [
        {
          "output_type": "stream",
          "name": "stdout",
          "text": [
            "Alice\n"
          ]
        }
      ]
    },
    {
      "cell_type": "code",
      "source": [
        "#24.Write a code to remove the key \"age\" from the dictionary {'name': 'Bob', 'age': 22, 'city': 'New York'}.\n",
        "dictionary = {'name': 'Bob', 'age': 22, 'city': 'New York'}\n",
        "del dictionary['age']\n",
        "print(dictionary)"
      ],
      "metadata": {
        "colab": {
          "base_uri": "https://localhost:8080/"
        },
        "id": "19kRcxckkdwy",
        "outputId": "decec1a0-7c68-4ba4-b8c7-03cdfa891ae5"
      },
      "execution_count": null,
      "outputs": [
        {
          "output_type": "stream",
          "name": "stdout",
          "text": [
            "{'name': 'Bob', 'city': 'New York'}\n"
          ]
        }
      ]
    },
    {
      "cell_type": "code",
      "source": [
        "#25.Write a code to check if the key \"city\" exists in the dictionary {'name': 'Alice', 'city': 'Paris'}.\n",
        "dictionary = {'name': 'Alice', 'city': 'Paris'}\n",
        "print('city' in dictionary)"
      ],
      "metadata": {
        "colab": {
          "base_uri": "https://localhost:8080/"
        },
        "id": "mns7kOk8kr5O",
        "outputId": "455f52f3-7026-46e3-8ada-5e6df5f74afe"
      },
      "execution_count": null,
      "outputs": [
        {
          "output_type": "stream",
          "name": "stdout",
          "text": [
            "True\n"
          ]
        }
      ]
    },
    {
      "cell_type": "code",
      "source": [
        "#26.Write a code to create a list, a tuple, and a dictionary, and print them all.\n",
        "list = [1, 2, 3]\n",
        "tuple = (4, 5, 6)\n",
        "dictionary = {'a': 1, 'b': 2, 'c': 3}\n",
        "print(list)\n",
        "print(tuple)\n",
        "print(dictionary)\n"
      ],
      "metadata": {
        "colab": {
          "base_uri": "https://localhost:8080/"
        },
        "id": "hTt6MHHHk5uc",
        "outputId": "3f654e40-047c-4855-aa7c-cc695704ebfd"
      },
      "execution_count": 1,
      "outputs": [
        {
          "output_type": "stream",
          "name": "stdout",
          "text": [
            "[1, 2, 3]\n",
            "(4, 5, 6)\n",
            "{'a': 1, 'b': 2, 'c': 3}\n"
          ]
        }
      ]
    },
    {
      "cell_type": "code",
      "source": [
        "#27.Write a code to create a list of 5 random numbers between 1 and 100, sort it in ascending order, and print the result.(replaced).\n",
        "import random\n",
        "list = [random.randint(1, 100) for _ in range(5)]\n",
        "list.sort()\n",
        "print(list)"
      ],
      "metadata": {
        "colab": {
          "base_uri": "https://localhost:8080/"
        },
        "id": "VlnFD4IklG7D",
        "outputId": "046fdb68-ba8c-4dce-aaa4-60a24fab4034"
      },
      "execution_count": null,
      "outputs": [
        {
          "output_type": "stream",
          "name": "stdout",
          "text": [
            "[1, 3, 6, 45, 67]\n"
          ]
        }
      ]
    },
    {
      "cell_type": "code",
      "source": [
        "#28.Write a code to create a list with strings and print the element at the third index.\n",
        "list = ['apple', 'banana', 'orange', 'grape']\n",
        "print(list[2])"
      ],
      "metadata": {
        "colab": {
          "base_uri": "https://localhost:8080/"
        },
        "id": "rVb5OARBl1lF",
        "outputId": "0f210806-44aa-425b-f59f-4e47eed4859e"
      },
      "execution_count": null,
      "outputs": [
        {
          "output_type": "stream",
          "name": "stdout",
          "text": [
            "orange\n"
          ]
        }
      ]
    },
    {
      "cell_type": "code",
      "source": [
        "#29. Write a code to combine two dictionaries into one and print the result.\n",
        "dictionary1 = {'a': 1, 'b': 2}\n",
        "dictionary2 = {'c': 3, 'd': 4}\n",
        "dictionary1.update(dictionary2)\n",
        "print(dictionary1)"
      ],
      "metadata": {
        "colab": {
          "base_uri": "https://localhost:8080/"
        },
        "id": "JdREK0wIl_Fe",
        "outputId": "51516937-0c71-4b08-cbc6-12db18417557"
      },
      "execution_count": null,
      "outputs": [
        {
          "output_type": "stream",
          "name": "stdout",
          "text": [
            "{'a': 1, 'b': 2, 'c': 3, 'd': 4}\n"
          ]
        }
      ]
    },
    {
      "cell_type": "code",
      "source": [
        "#30.Write a code to convert a list of strings into a set.\n",
        "list = ['apple', 'banana', 'orange']\n",
        "set = set(list)\n",
        "print(set)"
      ],
      "metadata": {
        "colab": {
          "base_uri": "https://localhost:8080/"
        },
        "id": "Hd_M5PwKmIpF",
        "outputId": "d4bb5e8a-5c3d-42ae-cce8-13d151353656"
      },
      "execution_count": null,
      "outputs": [
        {
          "output_type": "stream",
          "name": "stdout",
          "text": [
            "{'orange', 'banana', 'apple'}\n"
          ]
        }
      ]
    }
  ]
}